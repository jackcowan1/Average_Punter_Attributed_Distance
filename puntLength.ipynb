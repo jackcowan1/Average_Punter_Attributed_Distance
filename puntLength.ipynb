{
 "cells": [
  {
   "cell_type": "code",
   "execution_count": 38,
   "id": "initial_id",
   "metadata": {
    "collapsed": true,
    "ExecuteTime": {
     "end_time": "2024-06-05T17:09:09.886317Z",
     "start_time": "2024-06-05T17:09:09.879592Z"
    }
   },
   "outputs": [],
   "source": [
    "#imports\n",
    "import sqlite3\n",
    "import pandas as pd\n",
    "import numpy as np\n",
    "from statsmodels.formula.api import ols, logit"
   ]
  },
  {
   "cell_type": "code",
   "outputs": [],
   "source": [
    "# load data for distance model\n",
    "query = \"\"\"\n",
    "select Plays.*, S.*, P.name, G.weather\n",
    "from Plays join Stats S on Plays.gameId = S.gameId and Plays.playId = S.playId join Players P on Plays.kickerId = P.id join Games G on Plays.gameId = G.id\n",
    "where Plays.specialTeamsPlayType = 'Punt' and kickerId != 'NA' and\n",
    "snapTime != 'NA' and operationTime != 'NA' and hangTime != 'NA' and\n",
    "kickLength != 'NA';\n",
    "\"\"\"\n",
    "\n",
    "conn = sqlite3.connect('NFL_ST_data')\n",
    "cur = conn.cursor()\n",
    "cur.execute(query)\n",
    "rows = cur.fetchall()\n",
    "out = []\n",
    "for row in rows:\n",
    "    out.append(row)\n",
    "data = pd.DataFrame(out)\n",
    "data = data.rename(columns={x:y for x,y in enumerate(['gameId','playId','Description','qtr','down','yardsToGo','posTeam','playType','STResult','kickerId','kickBlockerId','yardlineSide',\n",
    "                     'yardline','gameClock', 'penaltyYards','HomeScore','VisitorScore','passResult','kickLength','kickReturnYardage',\n",
    "                     'playResult', 'absoluteYardlineNumber','s.gameID', 's.playId','snapDetail','snapTime','operationTime', 'hangTime', 'kickType', 'kickDirectionIntended',\n",
    "                     'kickDirectionActual','returnDirectionIntended', 'returnDirectionActual','tackler','kickoffReturnFormation','kickContactType', 'punter', 'weather'])})\n",
    "\n",
    "data['endzoneDistance'] = np.where(data['posTeam'] == data['yardlineSide'], data['yardline']+50, data['yardline'])\n",
    "data['kickShank'] = np.where(data['kickDirectionIntended'] != data['kickDirectionActual'], 1, 0)\n",
    "X = data[['endzoneDistance', 'snapDetail','snapTime','operationTime','hangTime','kickType', 'kickShank', 'kickDirectionActual']]\n",
    "Y = data['kickLength']"
   ],
   "metadata": {
    "collapsed": false,
    "ExecuteTime": {
     "end_time": "2024-06-05T17:09:15.233582Z",
     "start_time": "2024-06-05T17:09:14.917516Z"
    }
   },
   "id": "755f9588eb96cd8a",
   "execution_count": 39
  },
  {
   "cell_type": "code",
   "outputs": [],
   "source": [
    "#Get the weather data\n",
    "bad_weather = {'Rain', 'Light Rain', 'Drizzle', 'Light Snow', 'Light Sleet', 'Light Rain and Windy', 'Snow'}\n",
    "\n",
    "for i in range(len(data)):\n",
    "    if data.loc[i,'weather'] in bad_weather:\n",
    "        data.loc[i, 'weather_simp'] = 'elements'\n",
    "    else:\n",
    "        data.loc[i, 'weather_simp'] = 'clear'\n",
    "#data['weather_simp'] = np.where(np.in1d(data['weather'],bad_weather), 'elements', 'clear')\n",
    "data['weather_simp'] = np.where(data['weather'] == 'dome', 'dome', data['weather_simp'])"
   ],
   "metadata": {
    "collapsed": false,
    "ExecuteTime": {
     "end_time": "2024-06-05T17:09:20.792936Z",
     "start_time": "2024-06-05T17:09:20.114050Z"
    }
   },
   "id": "463cd68390e9bc18",
   "execution_count": 40
  },
  {
   "cell_type": "code",
   "outputs": [],
   "source": [
    "#convert to numeric\n",
    "for col in ['kickLength', 'snapTime', 'operationTime', 'hangTime']:\n",
    "    data[col] = pd.to_numeric(data[col])"
   ],
   "metadata": {
    "collapsed": false,
    "ExecuteTime": {
     "end_time": "2024-06-05T17:09:25.489032Z",
     "start_time": "2024-06-05T17:09:25.482443Z"
    }
   },
   "id": "ca029c117db9d27b",
   "execution_count": 41
  },
  {
   "cell_type": "code",
   "outputs": [
    {
     "name": "stdout",
     "output_type": "stream",
     "text": [
      "Punt length:\n",
      "                            OLS Regression Results                            \n",
      "==============================================================================\n",
      "Dep. Variable:             kickLength   R-squared:                       0.293\n",
      "Model:                            OLS   Adj. R-squared:                  0.282\n",
      "Method:                 Least Squares   F-statistic:                     26.67\n",
      "Date:                Wed, 05 Jun 2024   Prob (F-statistic):               0.00\n",
      "Time:                        12:09:30   Log-Likelihood:                -20162.\n",
      "No. Observations:                5871   AIC:                         4.051e+04\n",
      "Df Residuals:                    5780   BIC:                         4.111e+04\n",
      "Df Model:                          90                                         \n",
      "Covariance Type:            nonrobust                                         \n",
      "=============================================================================================================================================\n",
      "                                                                                coef    std err          t      P>|t|      [0.025      0.975]\n",
      "---------------------------------------------------------------------------------------------------------------------------------------------\n",
      "C(punter)[A.J. Cole]                                                         33.4111      4.403      7.588      0.000      24.779      42.043\n",
      "C(punter)[Aldrick Rosas]                                                     23.7289      6.428      3.692      0.000      11.128      36.330\n",
      "C(punter)[Andy Lee]                                                          33.2322      4.330      7.674      0.000      24.743      41.721\n",
      "C(punter)[Austin Seibert]                                                    34.7251      8.539      4.067      0.000      17.986      51.464\n",
      "C(punter)[Braden Mann]                                                       29.8255      4.334      6.882      0.000      21.329      38.322\n",
      "C(punter)[Bradley Pinion]                                                    29.7873      4.312      6.907      0.000      21.333      38.241\n",
      "C(punter)[Brett Kern]                                                        33.7298      4.317      7.813      0.000      25.267      42.193\n",
      "C(punter)[Britton Colquitt]                                                  30.9550      4.309      7.184      0.000      22.508      39.402\n",
      "C(punter)[Bryan Anger]                                                       32.0504      4.245      7.551      0.000      23.729      40.372\n",
      "C(punter)[Cameron Johnston]                                                  33.6091      4.326      7.769      0.000      25.129      42.089\n",
      "C(punter)[Chris Jones]                                                       28.5663      4.357      6.556      0.000      20.025      37.108\n",
      "C(punter)[Colby Wadman]                                                      32.4737      4.357      7.453      0.000      23.932      41.015\n",
      "C(punter)[Colton Schmidt]                                                    28.0774      4.708      5.964      0.000      18.848      37.307\n",
      "C(punter)[Corey Bojorquez]                                                   31.7932      4.350      7.309      0.000      23.265      40.321\n",
      "C(punter)[Donnie Jones]                                                      28.6363      4.464      6.416      0.000      19.886      37.387\n",
      "C(punter)[Drew Kaser]                                                        33.3213      4.870      6.842      0.000      23.774      42.869\n",
      "C(punter)[Dustin Colquitt]                                                   30.5772      4.340      7.045      0.000      22.069      39.085\n",
      "C(punter)[Hunter Niswander]                                                  31.7691      4.699      6.760      0.000      22.557      40.981\n",
      "C(punter)[J.K. Scott]                                                        30.9475      4.349      7.117      0.000      22.422      39.473\n",
      "C(punter)[Jack Fox]                                                          34.4219      4.399      7.825      0.000      25.799      43.045\n",
      "C(punter)[Jake Bailey]                                                       34.1388      4.343      7.861      0.000      25.625      42.653\n",
      "C(punter)[Jake Elliott]                                                      22.1139      6.873      3.218      0.001       8.641      35.587\n",
      "C(punter)[Jamie Gillan]                                                      31.4102      4.324      7.263      0.000      22.933      39.888\n",
      "C(punter)[Johnny Hekker]                                                     33.3246      4.349      7.662      0.000      24.798      41.851\n",
      "C(punter)[Johnny Townsend]                                                   28.9918      4.402      6.585      0.000      20.361      37.622\n",
      "C(punter)[Jordan Berry]                                                      31.5632      4.346      7.262      0.000      23.043      40.084\n",
      "C(punter)[Joseph Charlton]                                                   32.4268      4.419      7.338      0.000      23.764      41.089\n",
      "C(punter)[Kasey Redfern]                                                     26.5710      5.024      5.288      0.000      16.721      36.421\n",
      "C(punter)[Kevin Huber]                                                       31.5056      4.367      7.215      0.000      22.945      40.066\n",
      "C(punter)[Lachlan Edwards]                                                   31.8979      4.325      7.375      0.000      23.418      40.377\n",
      "C(punter)[Logan Cooke]                                                       32.2543      4.343      7.427      0.000      23.740      40.768\n",
      "C(punter)[Marquette King]                                                    30.5994      4.792      6.385      0.000      21.205      39.994\n",
      "C(punter)[Matt Bosher]                                                       30.7703      4.435      6.939      0.000      22.077      39.464\n",
      "C(punter)[Matt Darr]                                                         25.6882      4.620      5.560      0.000      16.632      34.745\n",
      "C(punter)[Matt Haack]                                                        31.4945      4.337      7.262      0.000      22.992      39.997\n",
      "C(punter)[Matt Wile]                                                         31.5465      4.401      7.167      0.000      22.918      40.175\n",
      "C(punter)[Michael Dickson]                                                   34.0458      4.283      7.950      0.000      25.650      42.441\n",
      "C(punter)[Michael Palardy]                                                   31.5277      4.306      7.321      0.000      23.085      39.970\n",
      "C(punter)[Mitch Wishnowsky]                                                  32.6819      4.339      7.533      0.000      24.177      41.187\n",
      "C(punter)[Pat O'Donnell]                                                     32.5977      4.334      7.522      0.000      24.102      41.093\n",
      "C(punter)[Rigoberto Sanchez]                                                 32.7410      4.370      7.493      0.000      24.175      41.307\n",
      "C(punter)[Riley Dixon]                                                       31.7253      4.376      7.250      0.000      23.147      40.304\n",
      "C(punter)[Ryan Allen]                                                        32.5318      4.392      7.408      0.000      23.923      41.141\n",
      "C(punter)[Ryan Winslow]                                                      34.8957      5.325      6.553      0.000      24.456      45.335\n",
      "C(punter)[Sam Koch]                                                          33.4270      4.351      7.682      0.000      24.897      41.957\n",
      "C(punter)[Sam Martin]                                                        32.2083      4.319      7.457      0.000      23.741      40.676\n",
      "C(punter)[Sterling Hofrichter]                                               29.0655      4.406      6.597      0.000      20.428      37.703\n",
      "C(punter)[Thomas Morstead]                                                   30.5801      4.351      7.029      0.000      22.051      39.109\n",
      "C(punter)[Tommy Townsend]                                                    32.3802      4.412      7.340      0.000      23.732      41.029\n",
      "C(punter)[Tress Way]                                                         33.2086      4.274      7.770      0.000      24.831      41.587\n",
      "C(punter)[Trevor Daniel]                                                     30.3565      4.322      7.024      0.000      21.884      38.829\n",
      "C(punter)[Ty Long]                                                           32.6453      4.393      7.431      0.000      24.033      41.258\n",
      "C(punter)[Zane Gonzalez]                                                     27.9103      8.692      3.211      0.001      10.872      44.949\n",
      "C(snapDetail)[T.>]                                                            0.0595      1.269      0.047      0.963      -2.429       2.548\n",
      "C(snapDetail)[T.H]                                                            0.4552      1.097      0.415      0.678      -1.695       2.605\n",
      "C(snapDetail)[T.L]                                                            0.9402      1.040      0.904      0.366      -1.099       2.979\n",
      "C(snapDetail)[T.OK]                                                           0.5311      0.877      0.606      0.545      -1.188       2.250\n",
      "C(kickType)[T.N]                                                              2.0136      0.327      6.157      0.000       1.372       2.655\n",
      "C(kickType)[T.R]                                                             -6.4027      3.819     -1.677      0.094     -13.889       1.084\n",
      "C(kickDirectionActual)[T.L]                                                  -1.3854      0.243     -5.694      0.000      -1.862      -0.908\n",
      "C(kickDirectionActual)[T.NA]                                                -16.6863      2.544     -6.560      0.000     -21.673     -11.700\n",
      "C(kickDirectionActual)[T.R]                                                   0.2009      0.260      0.772      0.440      -0.309       0.711\n",
      "C(weather)[T.Clear]                                                          -1.6024      2.730     -0.587      0.557      -6.954       3.749\n",
      "C(weather)[T.Drizzle]                                                        -1.1088      2.776     -0.399      0.690      -6.551       4.334\n",
      "C(weather)[T.Foggy]                                                           0.0863      2.838      0.030      0.976      -5.477       5.650\n",
      "C(weather)[T.Humid]                                                          -1.7095      3.094     -0.553      0.581      -7.774       4.355\n",
      "C(weather)[T.Humid and Mostly Cloudy]                                        -1.8413      2.839     -0.648      0.517      -7.408       3.725\n",
      "C(weather)[T.Humid and Overcast]                                             -0.8869      3.221     -0.275      0.783      -7.202       5.428\n",
      "C(weather)[T.Humid and Partly Cloudy]                                        -2.1040      2.868     -0.734      0.463      -7.726       3.518\n",
      "C(weather)[T.Light Rain]                                                     -2.5532      2.809     -0.909      0.363      -8.060       2.953\n",
      "C(weather)[T.Light Rain and Windy]                                           -1.0098      3.573     -0.283      0.777      -8.014       5.994\n",
      "C(weather)[T.Light Sleet]                                                    -5.9053      3.581     -1.649      0.099     -12.925       1.115\n",
      "C(weather)[T.Light Snow]                                                     -1.5837      3.296     -0.481      0.631      -8.044       4.877\n",
      "C(weather)[T.Mostly Cloudy]                                                  -2.3647      2.736     -0.864      0.387      -7.728       2.999\n",
      "C(weather)[T.Overcast]                                                       -1.9744      2.735     -0.722      0.470      -7.336       3.387\n",
      "C(weather)[T.Partly Cloudy]                                                  -1.6484      2.739     -0.602      0.547      -7.018       3.721\n",
      "C(weather)[T.Possible Drizzle]                                               -0.6500      3.202     -0.203      0.839      -6.927       5.627\n",
      "C(weather)[T.Possible Light Rain]                                             1.0695      4.103      0.261      0.794      -6.973       9.112\n",
      "C(weather)[T.Rain]                                                           -1.7120      2.991     -0.572      0.567      -7.575       4.151\n",
      "C(weather)[T.Snow]                                                           -2.0111      4.744     -0.424      0.672     -11.312       7.290\n",
      "C(weather)[T.Windy and Overcast]                                              7.4139      5.186      1.430      0.153      -2.753      17.581\n",
      "C(weather)[T.Windy and Partly Cloudy]                                        -4.5868      3.421     -1.341      0.180     -11.293       2.119\n",
      "C(weather)[T.dome]                                                           -1.6461      2.728     -0.603      0.546      -6.993       3.701\n",
      "bs(endzoneDistance, knots=(55, 90), degree=3, include_intercept=False)[0]     5.8584      2.958      1.981      0.048       0.060      11.657\n",
      "bs(endzoneDistance, knots=(55, 90), degree=3, include_intercept=False)[1]    27.2633      2.035     13.396      0.000      23.274      31.253\n",
      "bs(endzoneDistance, knots=(55, 90), degree=3, include_intercept=False)[2]    20.6273      2.535      8.136      0.000      15.657      25.597\n",
      "bs(endzoneDistance, knots=(55, 90), degree=3, include_intercept=False)[3]    19.7402      2.216      8.908      0.000      15.396      24.084\n",
      "bs(endzoneDistance, knots=(55, 90), degree=3, include_intercept=False)[4]    15.5224      2.368      6.556      0.000      10.881      20.164\n",
      "snapTime                                                                     -1.2358      2.072     -0.596      0.551      -5.298       2.827\n",
      "operationTime                                                                -2.0685      1.191     -1.737      0.082      -4.403       0.266\n",
      "kickShank                                                                     0.0574      0.570      0.101      0.920      -1.059       1.174\n",
      "==============================================================================\n",
      "Omnibus:                      301.123   Durbin-Watson:                   1.980\n",
      "Prob(Omnibus):                  0.000   Jarque-Bera (JB):              616.374\n",
      "Skew:                          -0.359   Prob(JB):                    1.43e-134\n",
      "Kurtosis:                       4.416   Cond. No.                         886.\n",
      "==============================================================================\n",
      "\n",
      "Notes:\n",
      "[1] Standard Errors assume that the covariance matrix of the errors is correctly specified.\n"
     ]
    }
   ],
   "source": [
    "# Make the model to get the punt distance\n",
    "# Omits all information about punter except which it is, treating each punter as a fixed effects\n",
    "# Possible continuation would be attempting mixed effects models\n",
    "punt_model = ols('kickLength ~ bs(endzoneDistance, knots = (55,90), degree= 3, include_intercept = False) + C(punter) + C(snapDetail) + snapTime + operationTime + C(kickType) + kickShank + C(kickDirectionActual) + C(weather)- 1', data=data)\n",
    "punt_fit = punt_model.fit()\n",
    "print('Punt length:')\n",
    "print(punt_fit.summary())"
   ],
   "metadata": {
    "collapsed": false,
    "ExecuteTime": {
     "end_time": "2024-06-05T17:09:30.412874Z",
     "start_time": "2024-06-05T17:09:30.128554Z"
    }
   },
   "id": "ed495e386436e252",
   "execution_count": 42
  },
  {
   "cell_type": "code",
   "outputs": [
    {
     "name": "stdout",
     "output_type": "stream",
     "text": [
      "                  index       coef  Adj. coef\n",
      "0             A.J. Cole  33.411136   0.810067\n",
      "1         Aldrick Rosas  23.728856  -2.937682\n",
      "2              Andy Lee  33.232161   0.740791\n",
      "3        Austin Seibert  34.725108   1.318670\n",
      "4           Braden Mann  29.825543  -0.577819\n",
      "5        Bradley Pinion  29.787280  -0.592630\n",
      "6            Brett Kern  33.729769   0.933402\n",
      "7      Britton Colquitt  30.954980  -0.140645\n",
      "8           Bryan Anger  32.050404   0.283364\n",
      "9      Cameron Johnston  33.609123   0.886703\n",
      "10          Chris Jones  28.566251  -1.065257\n",
      "11         Colby Wadman  32.473693   0.447208\n",
      "12       Colton Schmidt  28.077362  -1.254493\n",
      "13      Corey Bojorquez  31.793158   0.183792\n",
      "14         Donnie Jones  28.636292  -1.038146\n",
      "15           Drew Kaser  33.321255   0.775277\n",
      "16      Dustin Colquitt  30.577247  -0.286855\n",
      "17     Hunter Niswander  31.769073   0.174469\n",
      "18           J.K. Scott  30.947481  -0.143547\n",
      "19             Jack Fox  34.421877   1.201298\n",
      "20          Jake Bailey  34.138830   1.091738\n",
      "21         Jake Elliott  22.113862  -3.562803\n",
      "22         Jamie Gillan  31.410186   0.035553\n",
      "23        Johnny Hekker  33.324607   0.776574\n",
      "24      Johnny Townsend  28.991783  -0.900545\n",
      "25         Jordan Berry  31.563172   0.094770\n",
      "26      Joseph Charlton  32.426806   0.429060\n",
      "27        Kasey Redfern  26.570989  -1.837569\n",
      "28          Kevin Huber  31.505552   0.072467\n",
      "29      Lachlan Edwards  31.897941   0.224350\n",
      "30          Logan Cooke  32.254281   0.362280\n",
      "31       Marquette King  30.599359  -0.278296\n",
      "32          Matt Bosher  30.770299  -0.212130\n",
      "33            Matt Darr  25.688242  -2.179257\n",
      "34           Matt Haack  31.494500   0.068189\n",
      "35            Matt Wile  31.546543   0.088334\n",
      "36      Michael Dickson  34.045769   1.055717\n",
      "37      Michael Palardy  31.527701   0.081040\n",
      "38     Mitch Wishnowsky  32.681933   0.527812\n",
      "39        Pat O'Donnell  32.597713   0.495213\n",
      "40    Rigoberto Sanchez  32.740982   0.550669\n",
      "41          Riley Dixon  31.725275   0.157516\n",
      "42           Ryan Allen  32.531822   0.469708\n",
      "43         Ryan Winslow  34.895659   1.384686\n",
      "44             Sam Koch  33.426973   0.816197\n",
      "45           Sam Martin  32.208273   0.344471\n",
      "46  Sterling Hofrichter  29.065530  -0.872000\n",
      "47      Thomas Morstead  30.580074  -0.285761\n",
      "48       Tommy Townsend  32.380240   0.411035\n",
      "49            Tress Way  33.208587   0.731666\n",
      "50        Trevor Daniel  30.356483  -0.372306\n",
      "51              Ty Long  32.645344   0.513650\n"
     ]
    }
   ],
   "source": [
    "#Look at coefficients for punters and also the standardized coefficient\n",
    "punter_coef = punt_fit.params.reset_index()\n",
    "punter_coef = punter_coef.iloc[:(len(data['punter'].unique())-1),:]\n",
    "punter_coef['index'] = punter_coef['index'].str.split('[').str[1].str[:-1]\n",
    "punter_coef = punter_coef.rename(columns = {0:'coef'})\n",
    "punt_avg, punt_sd = (punter_coef['coef'].mean(), punter_coef['coef'].std())\n",
    "punter_coef['Adj. coef'] = (punter_coef['coef']-punt_avg)/punt_sd\n",
    "print(punter_coef)"
   ],
   "metadata": {
    "collapsed": false,
    "ExecuteTime": {
     "end_time": "2024-06-05T17:09:34.944020Z",
     "start_time": "2024-06-05T17:09:34.922373Z"
    }
   },
   "id": "e2fad74689ef3b6e",
   "execution_count": 43
  },
  {
   "cell_type": "code",
   "outputs": [],
   "source": [
    "# do cleaning to prepare for modeling the reutrn\n",
    "data['penaltyYards'] = np.where(data['penaltyYards'] == 'NA', 0, data['penaltyYards'])\n",
    "data['returnLength'] = data['playResult'] - data['kickLength'] - data['penaltyYards']\n",
    "data['returnLength'] = pd.to_numeric(np.where(data['STResult'] == 'Return', data['returnLength'], 0))\n",
    "\n",
    "returns = data[(data['STResult'] == \"Return\")]\n",
    "returns = returns[returns['kickReturnYardage'] != \"NA\"]\n",
    "\n",
    "returns['kickReturnYardage'] = pd.to_numeric(returns['kickReturnYardage'])"
   ],
   "metadata": {
    "collapsed": false,
    "ExecuteTime": {
     "end_time": "2024-06-05T17:09:39.930448Z",
     "start_time": "2024-06-05T17:09:39.909791Z"
    }
   },
   "id": "4da517becef86695",
   "execution_count": 44
  },
  {
   "cell_type": "code",
   "outputs": [
    {
     "name": "stdout",
     "output_type": "stream",
     "text": [
      "\n",
      "\n",
      "\n",
      "\n",
      "Return Length: \n",
      "                            OLS Regression Results                            \n",
      "==============================================================================\n",
      "Dep. Variable:      kickReturnYardage   R-squared:                       0.082\n",
      "Model:                            OLS   Adj. R-squared:                  0.057\n",
      "Method:                 Least Squares   F-statistic:                     3.245\n",
      "Date:                Wed, 05 Jun 2024   Prob (F-statistic):           1.75e-15\n",
      "Time:                        12:09:44   Log-Likelihood:                -8511.6\n",
      "No. Observations:                2277   AIC:                         1.715e+04\n",
      "Df Residuals:                    2215   BIC:                         1.750e+04\n",
      "Df Model:                          61                                         \n",
      "Covariance Type:            nonrobust                                         \n",
      "==================================================================================================\n",
      "                                     coef    std err          t      P>|t|      [0.025      0.975]\n",
      "--------------------------------------------------------------------------------------------------\n",
      "C(punter)[A.J. Cole]              11.5152      5.705      2.019      0.044       0.328      22.702\n",
      "C(punter)[Aldrick Rosas]          19.1462     10.713      1.787      0.074      -1.863      40.155\n",
      "C(punter)[Andy Lee]                9.9315      5.362      1.852      0.064      -0.584      20.447\n",
      "C(punter)[Braden Mann]            13.7498      5.377      2.557      0.011       3.206      24.293\n",
      "C(punter)[Bradley Pinion]         11.6571      5.306      2.197      0.028       1.252      22.062\n",
      "C(punter)[Brett Kern]              8.7939      5.348      1.644      0.100      -1.695      19.282\n",
      "C(punter)[Britton Colquitt]       10.6434      5.318      2.001      0.045       0.215      21.072\n",
      "C(punter)[Bryan Anger]             7.7446      5.353      1.447      0.148      -2.752      18.242\n",
      "C(punter)[Cameron Johnston]        7.3240      5.312      1.379      0.168      -3.094      17.742\n",
      "C(punter)[Chris Jones]            11.7819      5.466      2.155      0.031       1.062      22.502\n",
      "C(punter)[Colby Wadman]           13.2062      5.536      2.386      0.017       2.350      24.062\n",
      "C(punter)[Colton Schmidt]         17.2935      6.672      2.592      0.010       4.209      30.378\n",
      "C(punter)[Corey Bojorquez]        10.0632      5.454      1.845      0.065      -0.632      20.758\n",
      "C(punter)[Donnie Jones]            9.7071      5.791      1.676      0.094      -1.649      21.063\n",
      "C(punter)[Drew Kaser]              4.2420      7.511      0.565      0.572     -10.488      18.972\n",
      "C(punter)[Dustin Colquitt]         8.3992      5.453      1.540      0.124      -2.294      19.093\n",
      "C(punter)[Hunter Niswander]       13.8294      6.791      2.036      0.042       0.511      27.147\n",
      "C(punter)[J.K. Scott]             12.9086      5.476      2.358      0.018       2.171      23.646\n",
      "C(punter)[Jack Fox]                6.9899      5.749      1.216      0.224      -4.285      18.264\n",
      "C(punter)[Jake Bailey]             7.6701      5.722      1.341      0.180      -3.550      18.890\n",
      "C(punter)[Jake Elliott]            2.9536      8.870      0.333      0.739     -14.440      20.347\n",
      "C(punter)[Jamie Gillan]            9.8621      5.365      1.838      0.066      -0.660      20.384\n",
      "C(punter)[Johnny Hekker]          10.2878      5.519      1.864      0.062      -0.535      21.111\n",
      "C(punter)[Johnny Townsend]        10.2719      5.562      1.847      0.065      -0.636      21.179\n",
      "C(punter)[Jordan Berry]           10.2609      5.513      1.861      0.063      -0.551      21.073\n",
      "C(punter)[Joseph Charlton]        13.6031      5.783      2.352      0.019       2.263      24.943\n",
      "C(punter)[Kasey Redfern]          10.5865      7.014      1.509      0.131      -3.169      24.342\n",
      "C(punter)[Kevin Huber]             7.5711      5.493      1.378      0.168      -3.201      18.343\n",
      "C(punter)[Lachlan Edwards]         8.4765      5.356      1.583      0.114      -2.027      18.980\n",
      "C(punter)[Logan Cooke]             7.6894      5.473      1.405      0.160      -3.044      18.423\n",
      "C(punter)[Marquette King]         12.4927      7.019      1.780      0.075      -1.273      26.258\n",
      "C(punter)[Matt Bosher]             9.7626      5.872      1.663      0.097      -1.753      21.278\n",
      "C(punter)[Matt Darr]              11.8963      6.418      1.854      0.064      -0.689      24.482\n",
      "C(punter)[Matt Haack]             11.6943      5.495      2.128      0.033       0.919      22.470\n",
      "C(punter)[Matt Wile]               8.7277      5.659      1.542      0.123      -2.370      19.825\n",
      "C(punter)[Michael Dickson]         7.3694      5.190      1.420      0.156      -2.809      17.548\n",
      "C(punter)[Michael Palardy]        13.1633      5.365      2.454      0.014       2.643      23.684\n",
      "C(punter)[Mitch Wishnowsky]        9.3502      5.469      1.710      0.087      -1.375      20.076\n",
      "C(punter)[Pat O'Donnell]          10.0636      5.461      1.843      0.065      -0.645      20.772\n",
      "C(punter)[Rigoberto Sanchez]       8.0754      5.545      1.456      0.145      -2.799      18.949\n",
      "C(punter)[Riley Dixon]             9.0859      5.539      1.640      0.101      -1.775      19.947\n",
      "C(punter)[Ryan Allen]             10.3612      5.578      1.857      0.063      -0.578      21.300\n",
      "C(punter)[Ryan Winslow]            1.9878      7.403      0.269      0.788     -12.530      16.506\n",
      "C(punter)[Sam Koch]                9.2970      5.448      1.706      0.088      -1.387      19.981\n",
      "C(punter)[Sam Martin]              9.1190      5.410      1.686      0.092      -1.490      19.728\n",
      "C(punter)[Sterling Hofrichter]     7.3501      5.589      1.315      0.189      -3.610      18.311\n",
      "C(punter)[Thomas Morstead]         6.3228      5.484      1.153      0.249      -4.432      17.078\n",
      "C(punter)[Tommy Townsend]          8.2109      5.855      1.402      0.161      -3.272      19.693\n",
      "C(punter)[Tress Way]               8.6396      5.216      1.656      0.098      -1.589      18.868\n",
      "C(punter)[Trevor Daniel]           8.2984      5.420      1.531      0.126      -2.331      18.928\n",
      "C(punter)[Ty Long]                12.1042      5.491      2.204      0.028       1.336      22.872\n",
      "C(kickType)[T.N]                  -0.7873      0.738     -1.067      0.286      -2.235       0.660\n",
      "C(kickType)[T.R]                  -0.4712     10.394     -0.045      0.964     -20.853      19.911\n",
      "C(kickDirectionActual)[T.L]       -1.7156      0.585     -2.933      0.003      -2.862      -0.569\n",
      "C(kickDirectionActual)[T.NA]     -11.4423     10.389     -1.101      0.271     -31.815       8.930\n",
      "C(kickDirectionActual)[T.R]        0.0597      0.583      0.102      0.918      -1.083       1.202\n",
      "C(weather_simp)[T.dome]           -0.2773      0.564     -0.492      0.623      -1.384       0.829\n",
      "C(weather_simp)[T.elements]       -0.0329      0.915     -0.036      0.971      -1.826       1.761\n",
      "kickLength                         0.3790      0.038     10.055      0.000       0.305       0.453\n",
      "operationTime                     -3.3633      2.239     -1.502      0.133      -7.754       1.027\n",
      "hangTime                          -2.6216      0.567     -4.624      0.000      -3.733      -1.510\n",
      "kickShank                         -0.3867      1.076     -0.359      0.719      -2.498       1.724\n",
      "==============================================================================\n",
      "Omnibus:                     1649.169   Durbin-Watson:                   2.038\n",
      "Prob(Omnibus):                  0.000   Jarque-Bera (JB):            31618.386\n",
      "Skew:                           3.243   Prob(JB):                         0.00\n",
      "Kurtosis:                      20.064   Cond. No.                     8.87e+03\n",
      "==============================================================================\n",
      "\n",
      "Notes:\n",
      "[1] Standard Errors assume that the covariance matrix of the errors is correctly specified.\n",
      "[2] The condition number is large, 8.87e+03. This might indicate that there are\n",
      "strong multicollinearity or other numerical problems.\n"
     ]
    }
   ],
   "source": [
    "# fit a linear model for returns\n",
    "return_model = ols('kickReturnYardage ~ kickLength + operationTime + hangTime + C(punter) + C(kickType) + C(kickDirectionActual) + kickShank + C(weather_simp) -1', data=returns)\n",
    "return_fit = return_model.fit()\n",
    "print(\"\\n\\n\\n\")\n",
    "print('Return Length: ')\n",
    "print(return_fit.summary())"
   ],
   "metadata": {
    "collapsed": false,
    "ExecuteTime": {
     "end_time": "2024-06-05T17:09:44.895027Z",
     "start_time": "2024-06-05T17:09:44.747816Z"
    }
   },
   "id": "caa15b0533556ac0",
   "execution_count": 45
  },
  {
   "cell_type": "code",
   "outputs": [
    {
     "name": "stdout",
     "output_type": "stream",
     "text": [
      "Optimization terminated successfully.\n",
      "         Current function value: 0.497246\n",
      "         Iterations 6\n",
      "\n",
      "\n",
      "\n",
      "\n",
      "Return Chance: \n",
      "                           Logit Regression Results                           \n",
      "==============================================================================\n",
      "Dep. Variable:        returnAttempted   No. Observations:                 4077\n",
      "Model:                          Logit   Df Residuals:                     4065\n",
      "Method:                           MLE   Df Model:                           11\n",
      "Date:                Wed, 05 Jun 2024   Pseudo R-squ.:                  0.2750\n",
      "Time:                        12:09:49   Log-Likelihood:                -2027.3\n",
      "converged:                       True   LL-Null:                       -2796.1\n",
      "Covariance Type:            nonrobust   LLR p-value:                     0.000\n",
      "================================================================================================\n",
      "                                   coef    std err          z      P>|z|      [0.025      0.975]\n",
      "------------------------------------------------------------------------------------------------\n",
      "Intercept                        3.5706      0.928      3.849      0.000       1.752       5.389\n",
      "C(kickType)[T.N]                 0.7238      0.101      7.146      0.000       0.525       0.922\n",
      "C(kickType)[T.R]                 0.4629      1.655      0.280      0.780      -2.781       3.707\n",
      "C(kickDirectionActual)[T.L]     -0.1705      0.096     -1.768      0.077      -0.359       0.018\n",
      "C(kickDirectionActual)[T.NA]    -2.0272      1.187     -1.708      0.088      -4.354       0.300\n",
      "C(kickDirectionActual)[T.R]     -0.2989      0.102     -2.939      0.003      -0.498      -0.100\n",
      "C(weather_simp)[T.dome]          0.0665      0.087      0.768      0.443      -0.103       0.236\n",
      "C(weather_simp)[T.elements]      0.1376      0.166      0.829      0.407      -0.188       0.463\n",
      "kickLength                       0.1855      0.007     25.377      0.000       0.171       0.200\n",
      "operationTime                   -1.1289      0.379     -2.980      0.003      -1.872      -0.386\n",
      "hangTime                        -2.2621      0.112    -20.111      0.000      -2.483      -2.042\n",
      "kickShank                        0.5517      0.218      2.532      0.011       0.125       0.979\n",
      "================================================================================================\n"
     ]
    },
    {
     "name": "stderr",
     "output_type": "stream",
     "text": [
      "C:\\Users\\jcowa\\AppData\\Local\\Temp\\ipykernel_11944\\3227347010.py:3: SettingWithCopyWarning: \n",
      "A value is trying to be set on a copy of a slice from a DataFrame.\n",
      "Try using .loc[row_indexer,col_indexer] = value instead\n",
      "\n",
      "See the caveats in the documentation: https://pandas.pydata.org/pandas-docs/stable/user_guide/indexing.html#returning-a-view-versus-a-copy\n"
     ]
    }
   ],
   "source": [
    "#Look at how different factors impact if a kick is caught\n",
    "caught = data[data['STResult'].isin(['Return', 'Fair Catch', 'Muffed'])]\n",
    "caught['returnAttempted'] = pd.to_numeric(np.where(caught['STResult'] == 'Return', 1, 0))\n",
    "return_prob = logit(\"returnAttempted ~ kickLength + operationTime + hangTime + C(kickType) + C(kickDirectionActual) + kickShank+ C(weather_simp)\", data = caught)\n",
    "prob_fit = return_prob.fit()\n",
    "print(\"\\n\\n\\n\")\n",
    "print(\"Return Chance: \")\n",
    "print(prob_fit.summary())"
   ],
   "metadata": {
    "collapsed": false,
    "ExecuteTime": {
     "end_time": "2024-06-05T17:09:49.839753Z",
     "start_time": "2024-06-05T17:09:49.745624Z"
    }
   },
   "id": "b119e2960f606ffd",
   "execution_count": 46
  },
  {
   "cell_type": "code",
   "outputs": [],
   "source": [
    "# pull the tracking data for use in the models\n",
    "tracking_query = \"\"\"\n",
    "select *\n",
    "from Tracking t join Plays P on P.playId = t.playId and P.gameId = t.gameId join Games g on g.Id = t.gameId\n",
    "where p.specialTeamsPlayType = 'Punt' and event = 'punt_received'\n",
    "\"\"\"\n",
    "cur.execute(tracking_query)\n",
    "rows = cur.fetchall()\n",
    "out = []\n",
    "for row in rows:\n",
    "    out.append(row)\n",
    "column_names = [description[0] for description in cur.description]\n",
    "tracking = pd.DataFrame(out, columns=column_names)\n",
    "\n",
    "#drop unneeded columns\n",
    "columns_to_drop = [15, 16]\n",
    "tracking = tracking.iloc[:, [i for i in range(len(tracking.columns)) if i not in columns_to_drop]]"
   ],
   "metadata": {
    "collapsed": false,
    "ExecuteTime": {
     "end_time": "2024-06-05T17:10:15.785699Z",
     "start_time": "2024-06-05T17:09:54.201511Z"
    }
   },
   "id": "5caa8f122a50dd88",
   "execution_count": 47
  },
  {
   "cell_type": "code",
   "outputs": [],
   "source": [
    "# remove blocked kicks\n",
    "tracking = tracking[tracking['kickBlockerId'] == 'NA']"
   ],
   "metadata": {
    "collapsed": false,
    "ExecuteTime": {
     "end_time": "2024-06-05T17:10:20.013818Z",
     "start_time": "2024-06-05T17:10:19.925204Z"
    }
   },
   "id": "6e714dca3199c47d",
   "execution_count": 48
  },
  {
   "cell_type": "code",
   "outputs": [
    {
     "data": {
      "text/plain": "(2018100711, 253)"
     },
     "execution_count": 49,
     "metadata": {},
     "output_type": "execute_result"
    }
   ],
   "source": [
    "#get list of all punts\n",
    "uniques = list(set(zip(tracking['gameId'], tracking['playId'])))\n",
    "# remove a misclassified blocked punt\n",
    "uniques.pop(1261)"
   ],
   "metadata": {
    "collapsed": false,
    "ExecuteTime": {
     "end_time": "2024-06-05T17:10:24.465583Z",
     "start_time": "2024-06-05T17:10:24.431779Z"
    }
   },
   "id": "d87aafb2e2fe2a86",
   "execution_count": 49
  },
  {
   "cell_type": "code",
   "outputs": [],
   "source": [
    "# fix NA in direction\n",
    "tracking['dir'] = np.where(tracking['dir'] != 'NA',  tracking['dir'], tracking['o'])\n",
    "tracking['dir'] = np.where(tracking['dir'] != 'NA',  tracking['dir'], 0)\n",
    "tracking['dir'] = tracking['dir'].fillna(0).astype(float)"
   ],
   "metadata": {
    "collapsed": false,
    "ExecuteTime": {
     "end_time": "2024-06-05T17:10:30.861504Z",
     "start_time": "2024-06-05T17:10:30.812384Z"
    }
   },
   "id": "a51a1654b88d3cf2",
   "execution_count": 50
  },
  {
   "cell_type": "code",
   "outputs": [],
   "source": [
    "#get list of all returners\n",
    "all_returners = ['Bryce Callahan', 'Tarik Cohen', 'Marvin Hall', 'Marquez Callaway', 'T.J. Jones', 'Chris Claybrooks', 'Brandon Powell', 'Randall Cobb', 'Keke Coutee', 'Hunter Renfrow', 'Rashad Greene', 'Janarion Grant', 'Alex Erickson', 'Tyler Ervin', 'Tyler Boyd', 'Patrick Peterson', 'Julian Edelman', 'Tyler Lockett', 'Chris Hogan', 'Corey Coleman', 'Darrius Shepherd', 'DeAndre Carter', 'Diontae Johnson', 'Jalen Richard', 'Cameron Batson', 'Jarvis Landry', 'Darius Phillips', 'Dontrell Hilliard', 'Tavon Austin', 'Jamison Crowder', 'DeSean Jackson', 'Kaelin Clay', 'Kenny Moore', 'Anthony Miller', 'K.J. Osborn', 'Matthew Slater', 'Golden Tate', 'Dede Westbrook', 'Jalen Reagor', 'Isaiah Rodgers', 'K.J. Hamler', 'Cyrus Jones', 'Chad Beebe', 'Donovan Peoples-Jones', 'Brandon Zylstra', 'C.J. Board', 'Quadree Henderson', 'Jabrill Peppers', 'Jonathan Jones', 'Charvarius Ward', 'River Cracraft', 'Jeremy Kerley', 'James Proche', 'Andre Roberts', 'T.Y. Hilton', 'Tim White', 'Damiere Byrd', 'Jamal Agnew', 'Mohamed Sanu', 'Austin Carr', 'Quandre Diggs', 'Preston Williams', 'Marcus Murphy', 'Jakeem Grant', 'Michael Walker', 'Troymaine Pope', 'Dwayne Harris', 'Tyreek Hill', 'J.J. Taylor', 'Stacy Coley', 'D.J. Reed', 'Deionte Thompson', 'Ted Ginn', 'Greg Ward', 'Brandon Aiyuk', 'Tremon Smith', 'D.J. Moore', 'Spencer Schnell', 'Christian Kirk', 'Demarcus Robinson', 'Mecole Hardman', 'Antonio Hamilton', 'Dante Pettis', 'Odell Beckham', 'Marcus Sherels', 'Antonio Callaway', 'Ced Wilson', 'Jaydon Mickens', 'Greg Dortch', 'Jamie Collins', 'Diontae Spencer', 'Antonio Brown', 'Keelan Cole', 'Taysom Hill', 'Bisi Johnson', 'Kenjon Barner', 'Ryan Switzer', 'Danny Amendola', 'Russell Gage', 'Justin Hardy', 'DaeSean Hamilton', 'Tyrann Mathieu', 'Gunner Olszewski', 'Nyheim Hines', 'Rashard Davis', 'football', 'Brandon Tate', 'Nelson Agholor', 'Janoris Jenkins', 'Trent Taylor', 'Bobo Wilson', 'Javien Elliott', 'LeShaun Sims', 'Boston Scott', 'Maurice Harris', 'Cole Beasley', 'Richie James', 'Trevor Davis', 'Rishard Matthews', 'Alvin Kamara', 'Steven Sims', 'Chester Rogers', 'Darren Sproles', 'Isaiah McKenzie', \"Adoree' Jackson\", 'Charone Peake', 'Justin Watson', 'Kalif Raymond', \"Da'Mari Scott\", 'Isaiah Wright', 'Nsimba Webster', 'Josh Jackson', 'Myles Hartsfield', 'Nick Williams', 'Torry McTyer', 'J.J. Jones', 'Mike Hughes', 'Jaire Alexander', 'Phillip Lindsay', 'Andy Isabella', 'Marqui Christian', 'Tramon Williams', 'Byron Murphy', 'Greg Stroman', 'Quenton Meeks', 'Riley McCarron', 'Corey Clement', 'Travis Benjamin', 'Cedrick Wilson', 'Tommylee Lewis', 'Deonte Harris', 'Devin Duvernay', 'Cooper Kupp', 'Will Fuller', 'Desmond King', 'Pharoh Cooper', 'Jawill Davis', 'CeeDee Lamb', 'Kenny Stills', 'Jordy Nelson', 'Adam Humphries', 'Braxton Berrios', 'Brandon Rusnak', 'Dominique Rodgers-Cromartie', 'Mike Thomas', 'Micah Hyde', 'Trey Quinn', 'K.J. Hill', \"De'Anthony Thomas\", 'Danny Johnson', 'David Moore', 'JoJo Natson', 'T.J. Logan', 'Adam Jones', 'Avonte Maddox', \"D'Ernest Johnson\", 'Ray-Ray McCloud']"
   ],
   "metadata": {
    "collapsed": false,
    "ExecuteTime": {
     "end_time": "2024-06-05T17:10:35.830904Z",
     "start_time": "2024-06-05T17:10:35.821626Z"
    }
   },
   "id": "e4885d8fcb076bdc",
   "execution_count": 51
  },
  {
   "cell_type": "code",
   "outputs": [],
   "source": [
    "# get arrays of all punters and returners\n",
    "all_punters = tracking[tracking['position'] == 'P']['name'].unique()\n",
    "all_returners = np.array(all_returners)"
   ],
   "metadata": {
    "collapsed": false,
    "ExecuteTime": {
     "end_time": "2024-06-05T17:10:40.203219Z",
     "start_time": "2024-06-05T17:10:40.183733Z"
    }
   },
   "id": "f8ea5e366f0a22f9",
   "execution_count": 52
  },
  {
   "cell_type": "code",
   "outputs": [
    {
     "name": "stdout",
     "output_type": "stream",
     "text": [
      "0.0% complete\n",
      "21.09% complete\n",
      "42.18% complete\n",
      "63.26% complete\n",
      "84.35% complete\n"
     ]
    }
   ],
   "source": [
    "#prepare data for model\n",
    "\n",
    "#make empty data frame\n",
    "ready_data = pd.DataFrame(columns = [x for x in range(0,127+len(all_returners)+3+len(all_punters))])\n",
    "#iterate through all punts\n",
    "for i in range(len(uniques)):\n",
    "    #get the current punt\n",
    "    play_one = tracking[(tracking['gameId'] == uniques[i][0]) & (tracking['playId'] == uniques[i][1])].reset_index(drop=True)\n",
    "    # adjust all positions to be realtive to the football\n",
    "    football = play_one[play_one['name'] == 'football']\n",
    "    football_loc = (football['x'], football['y'])\n",
    "    for j in range(len(play_one)):\n",
    "        play_one.iloc[j,1] -= football_loc[0]\n",
    "        play_one.iloc[j,2] -= football_loc[1]\n",
    "    \n",
    "    #get distance between each player and the football\n",
    "    # dist only needed for sorting so we can skip square root since it is also always increasing\n",
    "    play_one.loc[:,'dist'] = play_one['x']**2 + play_one['y']**2\n",
    "\n",
    "    #switch teams to from home and away to recv and kick\n",
    "    if play_one.loc[0, 'possessionTeam'] == play_one.loc[0, 'home']:\n",
    "        play_one['team'] = np.where(play_one['team'] == 'home', 'kick', 'recv')\n",
    "    else:\n",
    "        play_one['team'] = np.where(play_one['team'] == 'away', 'kick', 'recv')\n",
    "        \n",
    "    #calculate speed at ballcarrier using a dot product\n",
    "    mag1 = np.sqrt(np.cos(np.radians((play_one['dir']+90)%360))**2 + np.sin(np.radians((play_one['dir']+90)%360))**2)\n",
    "    mag2 = np.sqrt(play_one['x']**2 + play_one['y']**2)\n",
    "    play_one['dot'] = play_one['s'] * (-np.cos(np.radians((play_one['dir']+90)%360)) * -play_one['x'] + np.sin(np.radians((play_one['dir']+90)%360)) * -play_one['y'])/(mag1*mag2)\n",
    "        \n",
    "    #sort by team and distance so it is also in a consistient order for the model\n",
    "    sorted = play_one.sort_values(by=['team', 'dist']).reset_index(drop=True)\n",
    "    #drop football and returner (11 is ball, 12 is returner\n",
    "    returner = sorted.loc[12,'name']\n",
    "    sorted = sorted.drop([11,12])\n",
    "    all_values = []\n",
    "\n",
    "    \n",
    "    \n",
    "    # extend dataframe into one long row so each play is one row \n",
    "    for index, row in sorted.iterrows():\n",
    "        all_values.extend([row['x'], row['y'], row['s'], row['a'], row['dir'], row['dot']])\n",
    "    \n",
    "    aggregated_row = pd.Series(all_values).to_frame().T\n",
    "    \n",
    "    #add returner as a column\n",
    "    returner_ind = np.where(all_returners == returner)\n",
    "    returner_cols = pd.DataFrame(np.zeros((1, len(all_returners))))\n",
    "    returner_cols.iloc[0,returner_ind] = 1\n",
    "    returner_cols.columns = range(126, 126+len(all_returners))\n",
    "    aggregated_row = pd.concat([aggregated_row, returner_cols],axis=1)\n",
    "    \n",
    "    #Tadd initial yardline to model (subratcing 10 to get rid of endzone)\n",
    "    aggregated_row[len(aggregated_row.iloc[0,:])] = play_one.loc[0,'absoluteYardlineNumber'] - 10\n",
    "    \n",
    "    #add punter as a column\n",
    "    try:\n",
    "        punter = sorted[sorted['position'] == 'P'].iloc[0,10]\n",
    "    except IndexError:\n",
    "        punter = sorted[sorted['position'] == 'K'].iloc[0,10]\n",
    "    punter_ind = np.where(all_punters == punter)\n",
    "    punter_cols = pd.DataFrame(np.zeros((1, len(all_punters))))\n",
    "    punter_cols.iloc[0,punter_ind] = 1\n",
    "    punter_cols.columns = range(len(aggregated_row.iloc[0,:]), len(aggregated_row.iloc[0,:])+len(all_punters))\n",
    "    aggregated_row = pd.concat([aggregated_row, punter_cols],axis=1)\n",
    "    \n",
    "    \n",
    "    #add hangtime as a column\n",
    "    try:\n",
    "        aggregated_row[len(aggregated_row.iloc[0,:])] = data[(data['gameId'] == uniques[i][0]) & (data['playId'] == uniques[i][1])].iloc[0,27]\n",
    "    except IndexError:\n",
    "        aggregated_row[len(aggregated_row.iloc[0,:])] = np.NAN\n",
    "        print(i)\n",
    "    \n",
    "    \n",
    "    #add punt distance as a column\n",
    "    aggregated_row[len(aggregated_row.iloc[0,:])] = play_one.loc[0,'kickLength']\n",
    "    \n",
    "    #add return yardage\n",
    "    aggregated_row[len(aggregated_row.iloc[0,:])] = play_one['kickReturnYardage'][0]\n",
    "    \n",
    "    ready_data.loc[i] = aggregated_row.loc[0]\n",
    "    \n",
    "    #track progress\n",
    "    if i%500 == 0:\n",
    "        print(f\"{round((i/len(uniques))*100,2)}% complete\")\n"
   ],
   "metadata": {
    "collapsed": false,
    "ExecuteTime": {
     "end_time": "2024-06-05T17:12:22.644156Z",
     "start_time": "2024-06-05T17:10:44.495540Z"
    }
   },
   "id": "b19a04b66da592dd",
   "execution_count": 53
  },
  {
   "cell_type": "code",
   "outputs": [],
   "source": [
    "#make sure that there is return yardage\n",
    "ready_data = ready_data[ready_data[len(ready_data.iloc[0,:])-1] != 'NA']"
   ],
   "metadata": {
    "collapsed": false,
    "ExecuteTime": {
     "end_time": "2024-06-05T17:12:35.738361Z",
     "start_time": "2024-06-05T17:12:35.719438Z"
    }
   },
   "id": "68f8bd1e0ea58344",
   "execution_count": 54
  },
  {
   "cell_type": "code",
   "outputs": [],
   "source": [
    "# get dependant variable\n",
    "Y = ready_data.iloc[:,-1].astype('float32')\n",
    "# get independent variables, one collection of all, one collection excluding the punter and punt characteristics\n",
    "X1 = ready_data.iloc[:,:-1]\n",
    "X2 = ready_data.iloc[:,:-(3+len(all_punters))]"
   ],
   "metadata": {
    "collapsed": false,
    "ExecuteTime": {
     "end_time": "2024-06-05T17:12:40.421297Z",
     "start_time": "2024-06-05T17:12:40.395400Z"
    }
   },
   "id": "d91d461a5bccb8e",
   "execution_count": 55
  },
  {
   "cell_type": "code",
   "outputs": [],
   "source": [
    "# more imports\n",
    "import tensorflow as tf\n",
    "from tensorflow import keras\n",
    "from sklearn.model_selection import KFold"
   ],
   "metadata": {
    "collapsed": false,
    "ExecuteTime": {
     "end_time": "2024-06-05T17:12:45.119683Z",
     "start_time": "2024-06-05T17:12:45.113431Z"
    }
   },
   "id": "2269947d6d3320ba",
   "execution_count": 56
  },
  {
   "cell_type": "code",
   "outputs": [],
   "source": [
    "#clear keras just in case\n",
    "tf.keras.backend.clear_session()"
   ],
   "metadata": {
    "collapsed": false,
    "ExecuteTime": {
     "end_time": "2024-06-05T17:12:49.401500Z",
     "start_time": "2024-06-05T17:12:49.386763Z"
    }
   },
   "id": "3c21008be10c1f66",
   "execution_count": 57
  },
  {
   "cell_type": "code",
   "outputs": [
    {
     "name": "stdout",
     "output_type": "stream",
     "text": [
      "\u001B[1m10/10\u001B[0m \u001B[32m━━━━━━━━━━━━━━━━━━━━\u001B[0m\u001B[37m\u001B[0m \u001B[1m0s\u001B[0m 33ms/step - loss: 108.1547 - mean_absolute_error: 6.8440 - mean_squared_error: 108.8002\n",
      "\u001B[1m10/10\u001B[0m \u001B[32m━━━━━━━━━━━━━━━━━━━━\u001B[0m\u001B[37m\u001B[0m \u001B[1m0s\u001B[0m 38ms/step - loss: 113.7605 - mean_absolute_error: 6.8550 - mean_squared_error: 112.6194\n",
      "\u001B[1m10/10\u001B[0m \u001B[32m━━━━━━━━━━━━━━━━━━━━\u001B[0m\u001B[37m\u001B[0m \u001B[1m0s\u001B[0m 37ms/step - loss: 129.1349 - mean_absolute_error: 6.3280 - mean_squared_error: 130.8813\n",
      "\u001B[1m10/10\u001B[0m \u001B[32m━━━━━━━━━━━━━━━━━━━━\u001B[0m\u001B[37m\u001B[0m \u001B[1m0s\u001B[0m 36ms/step - loss: 129.8516 - mean_absolute_error: 6.9669 - mean_squared_error: 132.1587\n",
      "\u001B[1m9/9\u001B[0m \u001B[32m━━━━━━━━━━━━━━━━━━━━\u001B[0m\u001B[37m\u001B[0m \u001B[1m0s\u001B[0m 35ms/step - loss: 80.7071 - mean_absolute_error: 6.2888 - mean_squared_error: 80.7071\n",
      "\u001B[1m9/9\u001B[0m \u001B[32m━━━━━━━━━━━━━━━━━━━━\u001B[0m\u001B[37m\u001B[0m \u001B[1m0s\u001B[0m 37ms/step - loss: 132.1837 - mean_absolute_error: 7.3027 - mean_squared_error: 132.1837\n",
      "\u001B[1m9/9\u001B[0m \u001B[32m━━━━━━━━━━━━━━━━━━━━\u001B[0m\u001B[37m\u001B[0m \u001B[1m0s\u001B[0m 35ms/step - loss: 90.4212 - mean_absolute_error: 5.9322 - mean_squared_error: 90.4212\n",
      "\u001B[1m9/9\u001B[0m \u001B[32m━━━━━━━━━━━━━━━━━━━━\u001B[0m\u001B[37m\u001B[0m \u001B[1m0s\u001B[0m 36ms/step - loss: 152.4841 - mean_absolute_error: 7.7142 - mean_squared_error: 152.4841\n"
     ]
    }
   ],
   "source": [
    "#set up cross-validation to find best model structure\n",
    "kf = KFold(n_splits = 8)\n",
    "VALIDATION_LOSS = []\n",
    "\n",
    "for train_index, val_index in kf.split(X1, Y):\n",
    "  #set train and validation sets\n",
    "  train_x = X1.iloc[train_index]\n",
    "  tf.convert_to_tensor(train_x, dtype=tf.float32)\n",
    "  valid_x = X1.iloc[val_index]\n",
    "  tf.convert_to_tensor(valid_x, dtype=tf.float32)\n",
    "  train_y = Y.iloc[train_index]\n",
    "  tf.convert_to_tensor(train_y, dtype=tf.float32)\n",
    "  valid_y = Y.iloc[val_index]\n",
    "  tf.convert_to_tensor(valid_y, dtype=tf.float32)\n",
    "  \n",
    "  #set seed to make reproducable (for random starting weights)\n",
    "  keras.utils.set_random_seed(14)\n",
    "  #build model\n",
    "  network = keras.models.Sequential([\n",
    "      keras.layers.Dense(1024, activation = 'elu'),\n",
    "      keras.layers.Dense(2048, activation = \"elu\"),\n",
    "      keras.layers.Dense(4096, activation = 'elu'),\n",
    "      keras.layers.Dense(4096, activation=\"elu\"),\n",
    "      keras.layers.Dense(4096, activation=\"elu\"),\n",
    "      keras.layers.Dense(2048, activation=\"elu\"),\n",
    "      keras.layers.Dense(1, activation = 'linear')\n",
    "  ])\n",
    "  \n",
    "  network.compile(loss=\"mean_squared_error\",\n",
    "                optimizer=keras.optimizers.Adam(learning_rate=0.001),\n",
    "                metrics = [\"mean_squared_error\", \"mean_absolute_error\"])\n",
    "  \n",
    "  \n",
    "  history = network.fit(train_x, train_y,\n",
    "                      epochs=12, batch_size=128,\n",
    "                      validation_data=(valid_x, valid_y), verbose = 0)\n",
    "  \n",
    "  results = network.evaluate(valid_x, valid_y)\n",
    "  \n",
    "  VALIDATION_LOSS.append(results[0])\n",
    "  \n",
    "  tf.keras.backend.clear_session()\n",
    "  "
   ],
   "metadata": {
    "collapsed": false,
    "ExecuteTime": {
     "end_time": "2024-06-05T17:29:55.077903Z",
     "start_time": "2024-06-05T17:12:53.704935Z"
    }
   },
   "id": "2149e51be24da115",
   "execution_count": 58
  },
  {
   "cell_type": "code",
   "outputs": [],
   "source": [
    "# make a second network for the data not including the punter or punt characteristics\n",
    "network2 = keras.models.Sequential([\n",
    "      keras.layers.Dense(1024, activation = 'elu'),\n",
    "      keras.layers.Dense(2048, activation = \"elu\"),\n",
    "      keras.layers.Dense(4096, activation = 'elu'),\n",
    "      keras.layers.Dense(4096, activation=\"elu\"),\n",
    "      keras.layers.Dense(4096, activation=\"elu\"),\n",
    "      keras.layers.Dense(2048, activation=\"elu\"),\n",
    "      keras.layers.Dense(1, activation = 'linear')\n",
    "  ])\n",
    "  \n",
    "network2.compile(loss=\"mean_squared_error\",\n",
    "                optimizer=keras.optimizers.Adam(learning_rate=0.001),\n",
    "                metrics = [\"mean_squared_error\", \"mean_absolute_error\"])\n",
    "  \n",
    "  "
   ],
   "metadata": {
    "collapsed": false,
    "ExecuteTime": {
     "end_time": "2024-06-05T17:29:59.173924Z",
     "start_time": "2024-06-05T17:29:59.135565Z"
    }
   },
   "id": "f2cbf14d0e1272c1",
   "execution_count": 59
  },
  {
   "cell_type": "code",
   "outputs": [],
   "source": [
    "#Fit the two models\n",
    "full_model = network.fit(X1, Y,\n",
    "                      epochs=12, batch_size=128,verbose = 0)\n",
    "limited_model = network2.fit(X2, Y,\n",
    "                            epochs=12, batch_size=128,verbose = 0)"
   ],
   "metadata": {
    "collapsed": false,
    "ExecuteTime": {
     "end_time": "2024-06-05T17:34:46.604909Z",
     "start_time": "2024-06-05T17:30:04.171060Z"
    }
   },
   "id": "4306d1ba0e26cb21",
   "execution_count": 60
  },
  {
   "cell_type": "code",
   "outputs": [
    {
     "name": "stdout",
     "output_type": "stream",
     "text": [
      "WARNING:tensorflow:5 out of the last 197 calls to <function TensorFlowTrainer.make_predict_function.<locals>.one_step_on_data_distributed at 0x000001E3C4E75940> triggered tf.function retracing. Tracing is expensive and the excessive number of tracings could be due to (1) creating @tf.function repeatedly in a loop, (2) passing tensors with different shapes, (3) passing Python objects instead of tensors. For (1), please define your @tf.function outside of the loop. For (2), @tf.function has reduce_retracing=True option that can avoid unnecessary retracing. For (3), please refer to https://www.tensorflow.org/guide/function#controlling_retracing and https://www.tensorflow.org/api_docs/python/tf/function for  more details.\n",
      "Sam Koch 32.93121873973017\n",
      "Matt Haack 30.662820713741297\n",
      "Matt Darr 24.114257332755454\n",
      "J.K. Scott 30.238206297181137\n",
      "Sam Martin 31.510412295079647\n",
      "Trevor Daniel 29.7046282140639\n",
      "Logan Cooke 31.24967604768733\n",
      "Johnny Townsend 28.166292958304133\n",
      "Pat O'Donnell 31.809978060592314\n",
      "Matt Wile 30.66169885145021\n",
      "Lac Edwards\n",
      "Lac Edwards 31.01629223539347\n",
      "Ryan Allen 31.757671514161295\n",
      "Michael Palardy 30.967701622677403\n",
      "Chris Jones 27.594357677363547\n",
      "Kevin Huber 30.858525298642196\n",
      "Jordan Berry 30.673458943979828\n",
      "Bryan Anger 31.068460001134\n",
      "Matt Bosher 29.883095075632056\n",
      "Brett Kern 33.09439213741307\n",
      "Rigoberto Sanchez 31.85588112826794\n",
      "Cameron Johnston 32.55354364180484\n",
      "Tress Way 32.59556286729686\n",
      "Colby Wadman 31.733198563278094\n",
      "Donnie Jones 27.776993640061928\n",
      "Bradley Pinion 29.290315386827185\n",
      "Michael Dickson 33.29220696960188\n",
      "Riley Dixon 30.869540918856426\n",
      "Britton Colquitt 30.366487943677168\n",
      "Andy Lee 32.45832581060324\n",
      "Johnny Hekker 32.933886741693094\n",
      "Dustin Colquitt 29.54207256979999\n",
      "Thomas Morstead 29.940085230175036\n",
      "Colton Schmidt 26.59199689368002\n",
      "Corey Bojorquez 30.843855229966394\n",
      "Drew Kaser 32.445118698539964\n",
      "Marquette King 30.80454136261409\n",
      "Jamie Gillan 30.732442582503168\n",
      "Ty Long 32.040986549895145\n",
      "A.J. Cole 32.609344873236125\n",
      "Mitch Wishnowsky 32.19649325596555\n",
      "Jake Bailey 33.432883474142976\n",
      "Kasey Redfern 25.684618869723394\n",
      "Ryan Winslow 34.016710628146946\n",
      "Joseph Charlton 31.11684471448943\n",
      "Jack Fox 33.61383267478947\n",
      "Braden Mann 29.235867561961573\n",
      "Hunter Niswander 30.538404204095038\n",
      "Sterling Hofrichter 28.124232197666128\n",
      "Tommy Townsend 32.372184267919685\n"
     ]
    }
   ],
   "source": [
    "# Find average punter attributed distance for each punter\n",
    "final = pd.DataFrame(columns = ['Name', 'Distance', 'Return', 'total'])\n",
    "for i in range(len(all_punters)):\n",
    "    #just get punts from the current punter\n",
    "    mask = np.where(ready_data.iloc[:,127+len(all_returners)+i] == 1)\n",
    "    #get the expected return values for all of their punts\n",
    "    full = network.predict(X1.iloc[mask], verbose=0)\n",
    "    limited = network2.predict(X2.iloc[mask], verbose=0)\n",
    "    # take the difference to get the punters contribution to expected return\n",
    "    diff = (limited-full).mean()\n",
    "    try:\n",
    "        #add the added distance added to the punt to the expectedreturn distance mitigated\n",
    "        dist = punter_coef[punter_coef['index'] == all_punters[i]].iloc[0,1] + diff\n",
    "    except IndexError:\n",
    "        print(all_punters[i])\n",
    "        #Catch Lachlan Edwards also going as Lac Edwards\n",
    "        dist = punter_coef[punter_coef['index'] == \"Lachlan Edwards\"].iloc[0,1] + diff\n",
    "    # collect all into one dataframe\n",
    "    final.loc[len(final)] = [all_punters[i],dist-diff, diff, dist]\n",
    "    print(all_punters[i], dist)"
   ],
   "metadata": {
    "collapsed": false,
    "ExecuteTime": {
     "end_time": "2024-06-05T17:36:20.385960Z",
     "start_time": "2024-06-05T17:36:04.970428Z"
    }
   },
   "id": "673e7d3aee44042",
   "execution_count": 61
  },
  {
   "cell_type": "code",
   "outputs": [],
   "source": [
    "#add a combined name column\n",
    "final[['first', 'last']] = final['Name'].str.split(' ', expand=True)\n",
    "final['short'] = final['first'].str[0] + '. ' + final['last']"
   ],
   "metadata": {
    "collapsed": false,
    "ExecuteTime": {
     "end_time": "2024-06-05T17:36:28.397083Z",
     "start_time": "2024-06-05T17:36:28.385993Z"
    }
   },
   "id": "a0c32678e5efdbfc",
   "execution_count": 62
  },
  {
   "cell_type": "markdown",
   "source": [
    "Make Graphics"
   ],
   "metadata": {
    "collapsed": false
   },
   "id": "a19c36976f3df952"
  },
  {
   "cell_type": "code",
   "outputs": [],
   "source": [
    "# import plotnine to graph results\n",
    "from plotnine import ggplot, geom_point, geom_label, aes, labs, theme_grey, xlim, ggsave, geom_col, coord_flip, scale_x_continuous, scale_color_manual, scale_y_continuous, geom_segment,theme, element_text, geom_vline, geom_line, geom_smooth"
   ],
   "metadata": {
    "collapsed": false,
    "ExecuteTime": {
     "end_time": "2024-06-05T17:36:33.263604Z",
     "start_time": "2024-06-05T17:36:33.257457Z"
    }
   },
   "id": "8703c5addb3c7f10",
   "execution_count": 63
  },
  {
   "cell_type": "code",
   "outputs": [],
   "source": [
    "# Graphic comparing distance added to punt with distance expected return is shorten\n",
    "adjust_text_dict = {\n",
    "    'force_text':(0.45,0.45),\n",
    "    'force_static':(0.3, 0.3),\n",
    "    'force_pull':(0.4,0.4),\n",
    "    'pull_threshold':5,\n",
    "    'expand_axes':True,\n",
    "    'arrowprops': {\n",
    "        'arrowstyle': '->',\n",
    "        'color': 'red'\n",
    "    }\n",
    "}\n",
    "\n",
    "\n",
    "p = ggplot(final, aes(\"Distance\",\"Return\",label = \"short\", size = 11))+geom_point()+ geom_label(size=16) + labs(x = \"Calculated Average Impact on Gross Punt Distance (Yards)\", y= \"Calculated Average Impact on Return (Yards)\", title = \"Calculated Punter Impact\") + theme_grey()+xlim(25,35.5) + theme(axis_title=element_text(size=24), plot_title=element_text(size=32,face=\"bold\"), axis_text=element_text(size=24), legend_position=\"none\")\n"
   ],
   "metadata": {
    "collapsed": false,
    "ExecuteTime": {
     "end_time": "2024-06-05T17:36:37.670770Z",
     "start_time": "2024-06-05T17:36:37.652681Z"
    }
   },
   "id": "cd5c98cc68243712",
   "execution_count": 64
  },
  {
   "cell_type": "code",
   "outputs": [],
   "source": [
    "#p.save(filename=\"Figures/Scatter.png\", dpi=1000, height=8, width=14, units='in')"
   ],
   "metadata": {
    "collapsed": false,
    "ExecuteTime": {
     "end_time": "2024-06-05T17:36:42.176039Z",
     "start_time": "2024-06-05T17:36:42.170564Z"
    }
   },
   "id": "8055bd79345790f6",
   "execution_count": 65
  },
  {
   "cell_type": "code",
   "outputs": [
    {
     "data": {
      "text/plain": "                   Name   Distance    Return      total      first  \\\n0              Sam Koch  33.426973 -0.495754  32.931219        Sam   \n1            Matt Haack  31.494500 -0.831679  30.662821       Matt   \n2             Matt Darr  25.688242 -1.573985  24.114257       Matt   \n3            J.K. Scott  30.947481 -0.709275  30.238206       J.K.   \n4            Sam Martin  32.208273 -0.697860  31.510412        Sam   \n5         Trevor Daniel  30.356483 -0.651855  29.704628     Trevor   \n6           Logan Cooke  32.254281 -1.004605  31.249676      Logan   \n7       Johnny Townsend  28.991783 -0.825490  28.166293     Johnny   \n8         Pat O'Donnell  32.597713 -0.787735  31.809978        Pat   \n9             Matt Wile  31.546543 -0.884844  30.661699       Matt   \n10          Lac Edwards  31.897941 -0.881649  31.016292        Lac   \n11           Ryan Allen  32.531822 -0.774150  31.757672       Ryan   \n12      Michael Palardy  31.527701 -0.559999  30.967702    Michael   \n13          Chris Jones  28.566251 -0.971893  27.594358      Chris   \n14          Kevin Huber  31.505552 -0.647027  30.858525      Kevin   \n15         Jordan Berry  31.563172 -0.889713  30.673459     Jordan   \n16          Bryan Anger  32.050404 -0.981944  31.068460      Bryan   \n17          Matt Bosher  30.770299 -0.887204  29.883095       Matt   \n18           Brett Kern  33.729769 -0.635377  33.094392      Brett   \n19    Rigoberto Sanchez  32.740982 -0.885101  31.855881  Rigoberto   \n20     Cameron Johnston  33.609123 -1.055580  32.553544    Cameron   \n21            Tress Way  33.208587 -0.613024  32.595563      Tress   \n22         Colby Wadman  32.473693 -0.740495  31.733199      Colby   \n23         Donnie Jones  28.636292 -0.859298  27.776994     Donnie   \n24       Bradley Pinion  29.787280 -0.496964  29.290315    Bradley   \n25      Michael Dickson  34.045769 -0.753562  33.292207    Michael   \n26          Riley Dixon  31.725275 -0.855734  30.869541      Riley   \n27     Britton Colquitt  30.954980 -0.588492  30.366488    Britton   \n28             Andy Lee  33.232161 -0.773835  32.458326       Andy   \n29        Johnny Hekker  33.324607 -0.390720  32.933887     Johnny   \n30      Dustin Colquitt  30.577247 -1.035175  29.542073     Dustin   \n31      Thomas Morstead  30.580074 -0.639988  29.940085     Thomas   \n32       Colton Schmidt  28.077362 -1.485365  26.591997     Colton   \n33      Corey Bojorquez  31.793158 -0.949302  30.843855      Corey   \n34           Drew Kaser  33.321255 -0.876136  32.445119       Drew   \n35       Marquette King  30.599359  0.205182  30.804541  Marquette   \n36         Jamie Gillan  31.410186 -0.677743  30.732443      Jamie   \n37              Ty Long  32.645344 -0.604357  32.040987         Ty   \n38            A.J. Cole  33.411136 -0.801791  32.609345       A.J.   \n39     Mitch Wishnowsky  32.681933 -0.485440  32.196493      Mitch   \n40          Jake Bailey  34.138830 -0.705947  33.432883       Jake   \n41        Kasey Redfern  26.570989 -0.886370  25.684619      Kasey   \n42         Ryan Winslow  34.895659 -0.878948  34.016711       Ryan   \n43      Joseph Charlton  32.426806 -1.309962  31.116845     Joseph   \n44             Jack Fox  34.421877 -0.808044  33.613833       Jack   \n45          Braden Mann  29.825543 -0.589675  29.235868     Braden   \n46     Hunter Niswander  31.769073 -1.230669  30.538404     Hunter   \n47  Sterling Hofrichter  29.065530 -0.941298  28.124232   Sterling   \n48       Tommy Townsend  32.380240 -0.008056  32.372184      Tommy   \n\n          last          short  \n0         Koch        S. Koch  \n1        Haack       M. Haack  \n2         Darr        M. Darr  \n3        Scott       J. Scott  \n4       Martin      S. Martin  \n5       Daniel      T. Daniel  \n6        Cooke       L. Cooke  \n7     Townsend    J. Townsend  \n8    O'Donnell   P. O'Donnell  \n9         Wile        M. Wile  \n10     Edwards     L. Edwards  \n11       Allen       R. Allen  \n12     Palardy     M. Palardy  \n13       Jones       C. Jones  \n14       Huber       K. Huber  \n15       Berry       J. Berry  \n16       Anger       B. Anger  \n17      Bosher      M. Bosher  \n18        Kern        B. Kern  \n19     Sanchez     R. Sanchez  \n20    Johnston    C. Johnston  \n21         Way         T. Way  \n22      Wadman      C. Wadman  \n23       Jones       D. Jones  \n24      Pinion      B. Pinion  \n25     Dickson     M. Dickson  \n26       Dixon       R. Dixon  \n27    Colquitt    B. Colquitt  \n28         Lee         A. Lee  \n29      Hekker      J. Hekker  \n30    Colquitt    D. Colquitt  \n31    Morstead    T. Morstead  \n32     Schmidt     C. Schmidt  \n33   Bojorquez   C. Bojorquez  \n34       Kaser       D. Kaser  \n35        King        M. King  \n36      Gillan      J. Gillan  \n37        Long        T. Long  \n38        Cole        A. Cole  \n39  Wishnowsky  M. Wishnowsky  \n40      Bailey      J. Bailey  \n41     Redfern     K. Redfern  \n42     Winslow     R. Winslow  \n43    Charlton    J. Charlton  \n44         Fox         J. Fox  \n45        Mann        B. Mann  \n46   Niswander   H. Niswander  \n47  Hofrichter  S. Hofrichter  \n48    Townsend    T. Townsend  ",
      "text/html": "<div>\n<style scoped>\n    .dataframe tbody tr th:only-of-type {\n        vertical-align: middle;\n    }\n\n    .dataframe tbody tr th {\n        vertical-align: top;\n    }\n\n    .dataframe thead th {\n        text-align: right;\n    }\n</style>\n<table border=\"1\" class=\"dataframe\">\n  <thead>\n    <tr style=\"text-align: right;\">\n      <th></th>\n      <th>Name</th>\n      <th>Distance</th>\n      <th>Return</th>\n      <th>total</th>\n      <th>first</th>\n      <th>last</th>\n      <th>short</th>\n    </tr>\n  </thead>\n  <tbody>\n    <tr>\n      <th>0</th>\n      <td>Sam Koch</td>\n      <td>33.426973</td>\n      <td>-0.495754</td>\n      <td>32.931219</td>\n      <td>Sam</td>\n      <td>Koch</td>\n      <td>S. Koch</td>\n    </tr>\n    <tr>\n      <th>1</th>\n      <td>Matt Haack</td>\n      <td>31.494500</td>\n      <td>-0.831679</td>\n      <td>30.662821</td>\n      <td>Matt</td>\n      <td>Haack</td>\n      <td>M. Haack</td>\n    </tr>\n    <tr>\n      <th>2</th>\n      <td>Matt Darr</td>\n      <td>25.688242</td>\n      <td>-1.573985</td>\n      <td>24.114257</td>\n      <td>Matt</td>\n      <td>Darr</td>\n      <td>M. Darr</td>\n    </tr>\n    <tr>\n      <th>3</th>\n      <td>J.K. Scott</td>\n      <td>30.947481</td>\n      <td>-0.709275</td>\n      <td>30.238206</td>\n      <td>J.K.</td>\n      <td>Scott</td>\n      <td>J. Scott</td>\n    </tr>\n    <tr>\n      <th>4</th>\n      <td>Sam Martin</td>\n      <td>32.208273</td>\n      <td>-0.697860</td>\n      <td>31.510412</td>\n      <td>Sam</td>\n      <td>Martin</td>\n      <td>S. Martin</td>\n    </tr>\n    <tr>\n      <th>5</th>\n      <td>Trevor Daniel</td>\n      <td>30.356483</td>\n      <td>-0.651855</td>\n      <td>29.704628</td>\n      <td>Trevor</td>\n      <td>Daniel</td>\n      <td>T. Daniel</td>\n    </tr>\n    <tr>\n      <th>6</th>\n      <td>Logan Cooke</td>\n      <td>32.254281</td>\n      <td>-1.004605</td>\n      <td>31.249676</td>\n      <td>Logan</td>\n      <td>Cooke</td>\n      <td>L. Cooke</td>\n    </tr>\n    <tr>\n      <th>7</th>\n      <td>Johnny Townsend</td>\n      <td>28.991783</td>\n      <td>-0.825490</td>\n      <td>28.166293</td>\n      <td>Johnny</td>\n      <td>Townsend</td>\n      <td>J. Townsend</td>\n    </tr>\n    <tr>\n      <th>8</th>\n      <td>Pat O'Donnell</td>\n      <td>32.597713</td>\n      <td>-0.787735</td>\n      <td>31.809978</td>\n      <td>Pat</td>\n      <td>O'Donnell</td>\n      <td>P. O'Donnell</td>\n    </tr>\n    <tr>\n      <th>9</th>\n      <td>Matt Wile</td>\n      <td>31.546543</td>\n      <td>-0.884844</td>\n      <td>30.661699</td>\n      <td>Matt</td>\n      <td>Wile</td>\n      <td>M. Wile</td>\n    </tr>\n    <tr>\n      <th>10</th>\n      <td>Lac Edwards</td>\n      <td>31.897941</td>\n      <td>-0.881649</td>\n      <td>31.016292</td>\n      <td>Lac</td>\n      <td>Edwards</td>\n      <td>L. Edwards</td>\n    </tr>\n    <tr>\n      <th>11</th>\n      <td>Ryan Allen</td>\n      <td>32.531822</td>\n      <td>-0.774150</td>\n      <td>31.757672</td>\n      <td>Ryan</td>\n      <td>Allen</td>\n      <td>R. Allen</td>\n    </tr>\n    <tr>\n      <th>12</th>\n      <td>Michael Palardy</td>\n      <td>31.527701</td>\n      <td>-0.559999</td>\n      <td>30.967702</td>\n      <td>Michael</td>\n      <td>Palardy</td>\n      <td>M. Palardy</td>\n    </tr>\n    <tr>\n      <th>13</th>\n      <td>Chris Jones</td>\n      <td>28.566251</td>\n      <td>-0.971893</td>\n      <td>27.594358</td>\n      <td>Chris</td>\n      <td>Jones</td>\n      <td>C. Jones</td>\n    </tr>\n    <tr>\n      <th>14</th>\n      <td>Kevin Huber</td>\n      <td>31.505552</td>\n      <td>-0.647027</td>\n      <td>30.858525</td>\n      <td>Kevin</td>\n      <td>Huber</td>\n      <td>K. Huber</td>\n    </tr>\n    <tr>\n      <th>15</th>\n      <td>Jordan Berry</td>\n      <td>31.563172</td>\n      <td>-0.889713</td>\n      <td>30.673459</td>\n      <td>Jordan</td>\n      <td>Berry</td>\n      <td>J. Berry</td>\n    </tr>\n    <tr>\n      <th>16</th>\n      <td>Bryan Anger</td>\n      <td>32.050404</td>\n      <td>-0.981944</td>\n      <td>31.068460</td>\n      <td>Bryan</td>\n      <td>Anger</td>\n      <td>B. Anger</td>\n    </tr>\n    <tr>\n      <th>17</th>\n      <td>Matt Bosher</td>\n      <td>30.770299</td>\n      <td>-0.887204</td>\n      <td>29.883095</td>\n      <td>Matt</td>\n      <td>Bosher</td>\n      <td>M. Bosher</td>\n    </tr>\n    <tr>\n      <th>18</th>\n      <td>Brett Kern</td>\n      <td>33.729769</td>\n      <td>-0.635377</td>\n      <td>33.094392</td>\n      <td>Brett</td>\n      <td>Kern</td>\n      <td>B. Kern</td>\n    </tr>\n    <tr>\n      <th>19</th>\n      <td>Rigoberto Sanchez</td>\n      <td>32.740982</td>\n      <td>-0.885101</td>\n      <td>31.855881</td>\n      <td>Rigoberto</td>\n      <td>Sanchez</td>\n      <td>R. Sanchez</td>\n    </tr>\n    <tr>\n      <th>20</th>\n      <td>Cameron Johnston</td>\n      <td>33.609123</td>\n      <td>-1.055580</td>\n      <td>32.553544</td>\n      <td>Cameron</td>\n      <td>Johnston</td>\n      <td>C. Johnston</td>\n    </tr>\n    <tr>\n      <th>21</th>\n      <td>Tress Way</td>\n      <td>33.208587</td>\n      <td>-0.613024</td>\n      <td>32.595563</td>\n      <td>Tress</td>\n      <td>Way</td>\n      <td>T. Way</td>\n    </tr>\n    <tr>\n      <th>22</th>\n      <td>Colby Wadman</td>\n      <td>32.473693</td>\n      <td>-0.740495</td>\n      <td>31.733199</td>\n      <td>Colby</td>\n      <td>Wadman</td>\n      <td>C. Wadman</td>\n    </tr>\n    <tr>\n      <th>23</th>\n      <td>Donnie Jones</td>\n      <td>28.636292</td>\n      <td>-0.859298</td>\n      <td>27.776994</td>\n      <td>Donnie</td>\n      <td>Jones</td>\n      <td>D. Jones</td>\n    </tr>\n    <tr>\n      <th>24</th>\n      <td>Bradley Pinion</td>\n      <td>29.787280</td>\n      <td>-0.496964</td>\n      <td>29.290315</td>\n      <td>Bradley</td>\n      <td>Pinion</td>\n      <td>B. Pinion</td>\n    </tr>\n    <tr>\n      <th>25</th>\n      <td>Michael Dickson</td>\n      <td>34.045769</td>\n      <td>-0.753562</td>\n      <td>33.292207</td>\n      <td>Michael</td>\n      <td>Dickson</td>\n      <td>M. Dickson</td>\n    </tr>\n    <tr>\n      <th>26</th>\n      <td>Riley Dixon</td>\n      <td>31.725275</td>\n      <td>-0.855734</td>\n      <td>30.869541</td>\n      <td>Riley</td>\n      <td>Dixon</td>\n      <td>R. Dixon</td>\n    </tr>\n    <tr>\n      <th>27</th>\n      <td>Britton Colquitt</td>\n      <td>30.954980</td>\n      <td>-0.588492</td>\n      <td>30.366488</td>\n      <td>Britton</td>\n      <td>Colquitt</td>\n      <td>B. Colquitt</td>\n    </tr>\n    <tr>\n      <th>28</th>\n      <td>Andy Lee</td>\n      <td>33.232161</td>\n      <td>-0.773835</td>\n      <td>32.458326</td>\n      <td>Andy</td>\n      <td>Lee</td>\n      <td>A. Lee</td>\n    </tr>\n    <tr>\n      <th>29</th>\n      <td>Johnny Hekker</td>\n      <td>33.324607</td>\n      <td>-0.390720</td>\n      <td>32.933887</td>\n      <td>Johnny</td>\n      <td>Hekker</td>\n      <td>J. Hekker</td>\n    </tr>\n    <tr>\n      <th>30</th>\n      <td>Dustin Colquitt</td>\n      <td>30.577247</td>\n      <td>-1.035175</td>\n      <td>29.542073</td>\n      <td>Dustin</td>\n      <td>Colquitt</td>\n      <td>D. Colquitt</td>\n    </tr>\n    <tr>\n      <th>31</th>\n      <td>Thomas Morstead</td>\n      <td>30.580074</td>\n      <td>-0.639988</td>\n      <td>29.940085</td>\n      <td>Thomas</td>\n      <td>Morstead</td>\n      <td>T. Morstead</td>\n    </tr>\n    <tr>\n      <th>32</th>\n      <td>Colton Schmidt</td>\n      <td>28.077362</td>\n      <td>-1.485365</td>\n      <td>26.591997</td>\n      <td>Colton</td>\n      <td>Schmidt</td>\n      <td>C. Schmidt</td>\n    </tr>\n    <tr>\n      <th>33</th>\n      <td>Corey Bojorquez</td>\n      <td>31.793158</td>\n      <td>-0.949302</td>\n      <td>30.843855</td>\n      <td>Corey</td>\n      <td>Bojorquez</td>\n      <td>C. Bojorquez</td>\n    </tr>\n    <tr>\n      <th>34</th>\n      <td>Drew Kaser</td>\n      <td>33.321255</td>\n      <td>-0.876136</td>\n      <td>32.445119</td>\n      <td>Drew</td>\n      <td>Kaser</td>\n      <td>D. Kaser</td>\n    </tr>\n    <tr>\n      <th>35</th>\n      <td>Marquette King</td>\n      <td>30.599359</td>\n      <td>0.205182</td>\n      <td>30.804541</td>\n      <td>Marquette</td>\n      <td>King</td>\n      <td>M. King</td>\n    </tr>\n    <tr>\n      <th>36</th>\n      <td>Jamie Gillan</td>\n      <td>31.410186</td>\n      <td>-0.677743</td>\n      <td>30.732443</td>\n      <td>Jamie</td>\n      <td>Gillan</td>\n      <td>J. Gillan</td>\n    </tr>\n    <tr>\n      <th>37</th>\n      <td>Ty Long</td>\n      <td>32.645344</td>\n      <td>-0.604357</td>\n      <td>32.040987</td>\n      <td>Ty</td>\n      <td>Long</td>\n      <td>T. Long</td>\n    </tr>\n    <tr>\n      <th>38</th>\n      <td>A.J. Cole</td>\n      <td>33.411136</td>\n      <td>-0.801791</td>\n      <td>32.609345</td>\n      <td>A.J.</td>\n      <td>Cole</td>\n      <td>A. Cole</td>\n    </tr>\n    <tr>\n      <th>39</th>\n      <td>Mitch Wishnowsky</td>\n      <td>32.681933</td>\n      <td>-0.485440</td>\n      <td>32.196493</td>\n      <td>Mitch</td>\n      <td>Wishnowsky</td>\n      <td>M. Wishnowsky</td>\n    </tr>\n    <tr>\n      <th>40</th>\n      <td>Jake Bailey</td>\n      <td>34.138830</td>\n      <td>-0.705947</td>\n      <td>33.432883</td>\n      <td>Jake</td>\n      <td>Bailey</td>\n      <td>J. Bailey</td>\n    </tr>\n    <tr>\n      <th>41</th>\n      <td>Kasey Redfern</td>\n      <td>26.570989</td>\n      <td>-0.886370</td>\n      <td>25.684619</td>\n      <td>Kasey</td>\n      <td>Redfern</td>\n      <td>K. Redfern</td>\n    </tr>\n    <tr>\n      <th>42</th>\n      <td>Ryan Winslow</td>\n      <td>34.895659</td>\n      <td>-0.878948</td>\n      <td>34.016711</td>\n      <td>Ryan</td>\n      <td>Winslow</td>\n      <td>R. Winslow</td>\n    </tr>\n    <tr>\n      <th>43</th>\n      <td>Joseph Charlton</td>\n      <td>32.426806</td>\n      <td>-1.309962</td>\n      <td>31.116845</td>\n      <td>Joseph</td>\n      <td>Charlton</td>\n      <td>J. Charlton</td>\n    </tr>\n    <tr>\n      <th>44</th>\n      <td>Jack Fox</td>\n      <td>34.421877</td>\n      <td>-0.808044</td>\n      <td>33.613833</td>\n      <td>Jack</td>\n      <td>Fox</td>\n      <td>J. Fox</td>\n    </tr>\n    <tr>\n      <th>45</th>\n      <td>Braden Mann</td>\n      <td>29.825543</td>\n      <td>-0.589675</td>\n      <td>29.235868</td>\n      <td>Braden</td>\n      <td>Mann</td>\n      <td>B. Mann</td>\n    </tr>\n    <tr>\n      <th>46</th>\n      <td>Hunter Niswander</td>\n      <td>31.769073</td>\n      <td>-1.230669</td>\n      <td>30.538404</td>\n      <td>Hunter</td>\n      <td>Niswander</td>\n      <td>H. Niswander</td>\n    </tr>\n    <tr>\n      <th>47</th>\n      <td>Sterling Hofrichter</td>\n      <td>29.065530</td>\n      <td>-0.941298</td>\n      <td>28.124232</td>\n      <td>Sterling</td>\n      <td>Hofrichter</td>\n      <td>S. Hofrichter</td>\n    </tr>\n    <tr>\n      <th>48</th>\n      <td>Tommy Townsend</td>\n      <td>32.380240</td>\n      <td>-0.008056</td>\n      <td>32.372184</td>\n      <td>Tommy</td>\n      <td>Townsend</td>\n      <td>T. Townsend</td>\n    </tr>\n  </tbody>\n</table>\n</div>"
     },
     "execution_count": 66,
     "metadata": {},
     "output_type": "execute_result"
    }
   ],
   "source": [
    "#Look at results\n",
    "final"
   ],
   "metadata": {
    "collapsed": false,
    "ExecuteTime": {
     "end_time": "2024-06-05T17:36:42.195114Z",
     "start_time": "2024-06-05T17:36:42.178216Z"
    }
   },
   "id": "bc4dde8619f80dd1",
   "execution_count": 66
  },
  {
   "cell_type": "code",
   "outputs": [
    {
     "name": "stdout",
     "output_type": "stream",
     "text": [
      "9.207416526478223\n",
      "1.7791669\n"
     ]
    }
   ],
   "source": [
    "#look at ranges between distance and return\n",
    "print(final['Distance'].max() - final['Distance'].min())\n",
    "print(final['Return'].max() - final['Return'].min())"
   ],
   "metadata": {
    "collapsed": false,
    "ExecuteTime": {
     "end_time": "2024-06-05T17:37:45.945452Z",
     "start_time": "2024-06-05T17:37:45.937503Z"
    }
   },
   "id": "58b1bc74d9c4a3d7",
   "execution_count": 67
  },
  {
   "cell_type": "code",
   "outputs": [
    {
     "data": {
      "text/plain": "               Name   Distance    Return      total    first     last  \\\n2         Matt Darr  25.688242 -1.573985  24.114257     Matt     Darr   \n41    Kasey Redfern  26.570989 -0.886370  25.684619    Kasey  Redfern   \n32   Colton Schmidt  28.077362 -1.485365  26.591997   Colton  Schmidt   \n13      Chris Jones  28.566251 -0.971893  27.594358    Chris    Jones   \n23     Donnie Jones  28.636292 -0.859298  27.776994   Donnie    Jones   \n18       Brett Kern  33.729769 -0.635377  33.094392    Brett     Kern   \n25  Michael Dickson  34.045769 -0.753562  33.292207  Michael  Dickson   \n40      Jake Bailey  34.138830 -0.705947  33.432883     Jake   Bailey   \n44         Jack Fox  34.421877 -0.808044  33.613833     Jack      Fox   \n42     Ryan Winslow  34.895659 -0.878948  34.016711     Ryan  Winslow   \n\n         short  \n2      M. Darr  \n41  K. Redfern  \n32  C. Schmidt  \n13    C. Jones  \n23    D. Jones  \n18     B. Kern  \n25  M. Dickson  \n40   J. Bailey  \n44      J. Fox  \n42  R. Winslow  ",
      "text/html": "<div>\n<style scoped>\n    .dataframe tbody tr th:only-of-type {\n        vertical-align: middle;\n    }\n\n    .dataframe tbody tr th {\n        vertical-align: top;\n    }\n\n    .dataframe thead th {\n        text-align: right;\n    }\n</style>\n<table border=\"1\" class=\"dataframe\">\n  <thead>\n    <tr style=\"text-align: right;\">\n      <th></th>\n      <th>Name</th>\n      <th>Distance</th>\n      <th>Return</th>\n      <th>total</th>\n      <th>first</th>\n      <th>last</th>\n      <th>short</th>\n    </tr>\n  </thead>\n  <tbody>\n    <tr>\n      <th>2</th>\n      <td>Matt Darr</td>\n      <td>25.688242</td>\n      <td>-1.573985</td>\n      <td>24.114257</td>\n      <td>Matt</td>\n      <td>Darr</td>\n      <td>M. Darr</td>\n    </tr>\n    <tr>\n      <th>41</th>\n      <td>Kasey Redfern</td>\n      <td>26.570989</td>\n      <td>-0.886370</td>\n      <td>25.684619</td>\n      <td>Kasey</td>\n      <td>Redfern</td>\n      <td>K. Redfern</td>\n    </tr>\n    <tr>\n      <th>32</th>\n      <td>Colton Schmidt</td>\n      <td>28.077362</td>\n      <td>-1.485365</td>\n      <td>26.591997</td>\n      <td>Colton</td>\n      <td>Schmidt</td>\n      <td>C. Schmidt</td>\n    </tr>\n    <tr>\n      <th>13</th>\n      <td>Chris Jones</td>\n      <td>28.566251</td>\n      <td>-0.971893</td>\n      <td>27.594358</td>\n      <td>Chris</td>\n      <td>Jones</td>\n      <td>C. Jones</td>\n    </tr>\n    <tr>\n      <th>23</th>\n      <td>Donnie Jones</td>\n      <td>28.636292</td>\n      <td>-0.859298</td>\n      <td>27.776994</td>\n      <td>Donnie</td>\n      <td>Jones</td>\n      <td>D. Jones</td>\n    </tr>\n    <tr>\n      <th>18</th>\n      <td>Brett Kern</td>\n      <td>33.729769</td>\n      <td>-0.635377</td>\n      <td>33.094392</td>\n      <td>Brett</td>\n      <td>Kern</td>\n      <td>B. Kern</td>\n    </tr>\n    <tr>\n      <th>25</th>\n      <td>Michael Dickson</td>\n      <td>34.045769</td>\n      <td>-0.753562</td>\n      <td>33.292207</td>\n      <td>Michael</td>\n      <td>Dickson</td>\n      <td>M. Dickson</td>\n    </tr>\n    <tr>\n      <th>40</th>\n      <td>Jake Bailey</td>\n      <td>34.138830</td>\n      <td>-0.705947</td>\n      <td>33.432883</td>\n      <td>Jake</td>\n      <td>Bailey</td>\n      <td>J. Bailey</td>\n    </tr>\n    <tr>\n      <th>44</th>\n      <td>Jack Fox</td>\n      <td>34.421877</td>\n      <td>-0.808044</td>\n      <td>33.613833</td>\n      <td>Jack</td>\n      <td>Fox</td>\n      <td>J. Fox</td>\n    </tr>\n    <tr>\n      <th>42</th>\n      <td>Ryan Winslow</td>\n      <td>34.895659</td>\n      <td>-0.878948</td>\n      <td>34.016711</td>\n      <td>Ryan</td>\n      <td>Winslow</td>\n      <td>R. Winslow</td>\n    </tr>\n  </tbody>\n</table>\n</div>"
     },
     "execution_count": 68,
     "metadata": {},
     "output_type": "execute_result"
    }
   ],
   "source": [
    "#Get top five and bottom 5\n",
    "pd.concat([final.sort_values('total').iloc[:5], final.sort_values('total').iloc[len(final)-5:]])"
   ],
   "metadata": {
    "collapsed": false,
    "ExecuteTime": {
     "end_time": "2024-06-05T17:37:50.890458Z",
     "start_time": "2024-06-05T17:37:50.870012Z"
    }
   },
   "id": "264a481c41e6348",
   "execution_count": 68
  },
  {
   "cell_type": "code",
   "outputs": [],
   "source": [
    "#make graphic showing top five and bottom five punters by average punter attributed distance\n",
    "\n",
    "p2 = ggplot(pd.concat([final.sort_values('total').iloc[:5], final.sort_values('total').iloc[len(final)-5:]]), aes(\"reorder(Name,total)\",\"total\")) + geom_point(size = 5)+ geom_segment(aes(x='Name',xend='Name',y=0, yend='total'), size =3)+coord_flip()+labs(y=\"Average Yards Added per Punt\", x= \"Punter\", title= \"Average Punter Attributed Distance\", subtitle = \"Top Five vs. Bottom Five\") + theme(axis_title=element_text(size=28), plot_title=element_text(size=32,face=\"bold\", hjust=0.5), plot_subtitle=element_text(size = 32, hjust=0.5), axis_text=element_text(size=24))+ geom_vline(xintercept=5.5, linetype='dashed', size =2, color = 'red')+ scale_y_continuous(breaks=[0,5,10,15,20,25,30,35])"
   ],
   "metadata": {
    "collapsed": false,
    "ExecuteTime": {
     "end_time": "2024-06-05T17:37:50.923013Z",
     "start_time": "2024-06-05T17:37:50.892859Z"
    }
   },
   "id": "97cc3d394af5d83",
   "execution_count": 69
  },
  {
   "cell_type": "code",
   "outputs": [],
   "source": [
    "#p2.save(filename=\"Figures/top5bottom5.png\", dpi=1000, height=8, width=14, units='in')"
   ],
   "metadata": {
    "collapsed": false,
    "ExecuteTime": {
     "end_time": "2024-06-05T17:37:50.929672Z",
     "start_time": "2024-06-05T17:37:50.925361Z"
    }
   },
   "id": "4e2e32d61da5f0e2",
   "execution_count": 70
  },
  {
   "cell_type": "code",
   "outputs": [],
   "source": [
    "# make graphic showing kick length controling for yardline of the kick and weather\n",
    "p3 = ggplot(data, aes(x='endzoneDistance', y = 'kickLength', color = 'weather_simp')) + geom_point(size=0.3)+geom_smooth(method= 'loess', size = 1.5) + theme(axis_title=element_text(size=24), plot_title=element_text(size=25,face=\"bold\", hjust=1), axis_text=element_text(size=18), legend_position=(0.01,0.99), legend_title=element_text(size=24), legend_text=element_text(size=20)) + labs(y=\"Punt Length (Yards)\", x= \"Distance to End Zone (Yards)\", title= \"Punt Length vs. End Zone Distance\", color = \"Weather\")  + scale_color_manual(labels = (\"Clear\", \"Domed\", 'Elements'), values = (\"red\", 'green', 'blue'))"
   ],
   "metadata": {
    "collapsed": false,
    "ExecuteTime": {
     "end_time": "2024-06-05T17:37:50.950767Z",
     "start_time": "2024-06-05T17:37:50.931978Z"
    }
   },
   "id": "de60d64f8faadcc",
   "execution_count": 71
  },
  {
   "cell_type": "code",
   "outputs": [],
   "source": [
    "#p3.save(filename=\"Figures/LengthVsDistance.png\", dpi=750, height=6, width=7.5, units='in')"
   ],
   "metadata": {
    "collapsed": false,
    "ExecuteTime": {
     "end_time": "2024-06-05T17:37:51.321823Z",
     "start_time": "2024-06-05T17:37:51.315350Z"
    }
   },
   "id": "708ef024ded43712",
   "execution_count": 72
  },
  {
   "cell_type": "code",
   "outputs": [],
   "source": [
    "# Make graphic showing kick length controlling for hangtime\n",
    "p4 = ggplot(data[data['hangTime']>2], aes(x='hangTime', y = 'kickLength')) + geom_point(size=0.3)+geom_smooth(method= 'loess', size = 1.5, color = 'blue')+theme(axis_title=element_text(size=24), plot_title=element_text(size=25,face=\"bold\"), axis_text=element_text(size=18)) + labs(y=\"Punt Length (Yards)\", x= \"Hang Time (Seconds)\", title= \"Punt Length vs. Hang Time\")"
   ],
   "metadata": {
    "collapsed": false,
    "ExecuteTime": {
     "end_time": "2024-06-05T17:37:56.518138Z",
     "start_time": "2024-06-05T17:37:56.498077Z"
    }
   },
   "id": "eff2df6e48760dc6",
   "execution_count": 73
  },
  {
   "cell_type": "code",
   "outputs": [],
   "source": [
    "#p4.save(filename=\"Figures\\LengthVsHangTime.png\", dpi=750, height=6, width=7.5, units='in')"
   ],
   "metadata": {
    "collapsed": false,
    "ExecuteTime": {
     "end_time": "2024-06-05T17:37:56.524388Z",
     "start_time": "2024-06-05T17:37:56.520309Z"
    }
   },
   "id": "335aaa1e503f30c3",
   "execution_count": 74
  }
 ],
 "metadata": {
  "kernelspec": {
   "display_name": "Python 3",
   "language": "python",
   "name": "python3"
  },
  "language_info": {
   "codemirror_mode": {
    "name": "ipython",
    "version": 2
   },
   "file_extension": ".py",
   "mimetype": "text/x-python",
   "name": "python",
   "nbconvert_exporter": "python",
   "pygments_lexer": "ipython2",
   "version": "2.7.6"
  }
 },
 "nbformat": 4,
 "nbformat_minor": 5
}
