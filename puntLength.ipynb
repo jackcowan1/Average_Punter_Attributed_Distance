{
 "cells": [
  {
   "cell_type": "code",
   "execution_count": null,
   "id": "initial_id",
   "metadata": {
    "collapsed": true
   },
   "outputs": [],
   "source": [
    "#imports\n",
    "import sqlite3\n",
    "import pandas as pd\n",
    "import numpy as np\n",
    "from statsmodels.formula.api import ols, logit"
   ]
  },
  {
   "cell_type": "code",
   "outputs": [],
   "source": [
    "# load data for distance model\n",
    "query = \"\"\"\n",
    "select Plays.*, S.*, P.name, G.weather\n",
    "from Plays join Stats S on Plays.gameId = S.gameId and Plays.playId = S.playId join Players P on Plays.kickerId = P.id join Games G on Plays.gameId = G.id\n",
    "where Plays.specialTeamsPlayType = 'Punt' and kickerId != 'NA' and\n",
    "snapTime != 'NA' and operationTime != 'NA' and hangTime != 'NA' and\n",
    "kickLength != 'NA';\n",
    "\"\"\"\n",
    "\n",
    "conn = sqlite3.connect('NFL_ST_data')\n",
    "cur = conn.cursor()\n",
    "cur.execute(query)\n",
    "rows = cur.fetchall()\n",
    "out = []\n",
    "for row in rows:\n",
    "    out.append(row)\n",
    "data = pd.DataFrame(out)\n",
    "data = data.rename(columns={x:y for x,y in enumerate(['gameId','playId','Description','qtr','down','yardsToGo','posTeam','playType','STResult','kickerId','kickBlockerId','yardlineSide',\n",
    "                     'yardline','gameClock', 'penaltyYards','HomeScore','VisitorScore','passResult','kickLength','kickReturnYardage',\n",
    "                     'playResult', 'absoluteYardlineNumber','s.gameID', 's.playId','snapDetail','snapTime','operationTime', 'hangTime', 'kickType', 'kickDirectionIntended',\n",
    "                     'kickDirectionActual','returnDirectionIntended', 'returnDirectionActual','tackler','kickoffReturnFormation','kickContactType', 'punter', 'weather'])})\n",
    "\n",
    "data['endzoneDistance'] = np.where(data['posTeam'] == data['yardlineSide'], data['yardline']+50, data['yardline'])\n",
    "data['kickShank'] = np.where(data['kickDirectionIntended'] != data['kickDirectionActual'], 1, 0)\n",
    "X = data[['endzoneDistance', 'snapDetail','snapTime','operationTime','hangTime','kickType', 'kickShank', 'kickDirectionActual']]\n",
    "Y = data['kickLength']"
   ],
   "metadata": {
    "collapsed": false
   },
   "id": "755f9588eb96cd8a",
   "execution_count": null
  },
  {
   "cell_type": "code",
   "outputs": [],
   "source": [
    "#Get the weather data\n",
    "bad_weather = {'Rain', 'Light Rain', 'Drizzle', 'Light Snow', 'Light Sleet', 'Light Rain and Windy', 'Snow'}\n",
    "\n",
    "for i in range(len(data)):\n",
    "    if data.loc[i,'weather'] in bad_weather:\n",
    "        data.loc[i, 'weather_simp'] = 'elements'\n",
    "    else:\n",
    "        data.loc[i, 'weather_simp'] = 'clear'\n",
    "#data['weather_simp'] = np.where(np.in1d(data['weather'],bad_weather), 'elements', 'clear')\n",
    "data['weather_simp'] = np.where(data['weather'] == 'dome', 'dome', data['weather_simp'])"
   ],
   "metadata": {
    "collapsed": false
   },
   "id": "463cd68390e9bc18",
   "execution_count": null
  },
  {
   "cell_type": "code",
   "outputs": [],
   "source": [
    "#convert to numeric\n",
    "for col in ['kickLength', 'snapTime', 'operationTime', 'hangTime']:\n",
    "    data[col] = pd.to_numeric(data[col])"
   ],
   "metadata": {
    "collapsed": false
   },
   "id": "ca029c117db9d27b",
   "execution_count": null
  },
  {
   "cell_type": "code",
   "outputs": [],
   "source": [
    "# Make the model to get the punt distance\n",
    "# Omits all information about punter except which it is, treating each punter as a fixed effects\n",
    "# Possible continuation would be attempting mixed effects models\n",
    "punt_model = ols('kickLength ~ bs(endzoneDistance, knots = (55,90), degree= 3, include_intercept = False) + C(punter) + C(snapDetail) + snapTime + operationTime + C(kickType) + kickShank + C(kickDirectionActual) + C(weather)- 1', data=data)\n",
    "punt_fit = punt_model.fit()\n",
    "print('Punt length:')\n",
    "print(punt_fit.summary())"
   ],
   "metadata": {
    "collapsed": false
   },
   "id": "ed495e386436e252",
   "execution_count": null
  },
  {
   "cell_type": "code",
   "outputs": [],
   "source": [
    "#Look at coefficients for punters and also the standardized coefficient\n",
    "punter_coef = punt_fit.params.reset_index()\n",
    "punter_coef = punter_coef.iloc[:(len(data['punter'].unique())-1),:]\n",
    "punter_coef['index'] = punter_coef['index'].str.split('[').str[1].str[:-1]\n",
    "punter_coef = punter_coef.rename(columns = {0:'coef'})\n",
    "punt_avg, punt_sd = (punter_coef['coef'].mean(), punter_coef['coef'].std())\n",
    "punter_coef['Adj. coef'] = (punter_coef['coef']-punt_avg)/punt_sd\n",
    "print(punter_coef)"
   ],
   "metadata": {
    "collapsed": false
   },
   "id": "e2fad74689ef3b6e",
   "execution_count": null
  },
  {
   "cell_type": "code",
   "outputs": [],
   "source": [
    "# do cleaning to prepare for modeling the reutrn\n",
    "data['penaltyYards'] = np.where(data['penaltyYards'] == 'NA', 0, data['penaltyYards'])\n",
    "data['returnLength'] = data['playResult'] - data['kickLength'] - data['penaltyYards']\n",
    "data['returnLength'] = pd.to_numeric(np.where(data['STResult'] == 'Return', data['returnLength'], 0))\n",
    "\n",
    "returns = data[(data['STResult'] == \"Return\")]\n",
    "returns = returns[returns['kickReturnYardage'] != \"NA\"]\n",
    "\n",
    "returns['kickReturnYardage'] = pd.to_numeric(returns['kickReturnYardage'])"
   ],
   "metadata": {
    "collapsed": false
   },
   "id": "4da517becef86695",
   "execution_count": null
  },
  {
   "cell_type": "code",
   "outputs": [],
   "source": [
    "# fit a linear model for returns\n",
    "return_model = ols('kickReturnYardage ~ kickLength + operationTime + hangTime + C(punter) + C(kickType) + C(kickDirectionActual) + kickShank + C(weather_simp) -1', data=returns)\n",
    "return_fit = return_model.fit()\n",
    "print(\"\\n\\n\\n\")\n",
    "print('Return Length: ')\n",
    "print(return_fit.summary())"
   ],
   "metadata": {
    "collapsed": false
   },
   "id": "caa15b0533556ac0",
   "execution_count": null
  },
  {
   "cell_type": "code",
   "outputs": [],
   "source": [
    "#Look at how different factors impact if a kick is caught\n",
    "caught = data[data['STResult'].isin(['Return', 'Fair Catch', 'Muffed'])]\n",
    "caught['returnAttempted'] = pd.to_numeric(np.where(caught['STResult'] == 'Return', 1, 0))\n",
    "return_prob = logit(\"returnAttempted ~ kickLength + operationTime + hangTime + C(kickType) + C(kickDirectionActual) + kickShank+ C(weather_simp)\", data = caught)\n",
    "prob_fit = return_prob.fit()\n",
    "print(\"\\n\\n\\n\")\n",
    "print(\"Return Chance: \")\n",
    "print(prob_fit.summary())"
   ],
   "metadata": {
    "collapsed": false
   },
   "id": "b119e2960f606ffd",
   "execution_count": null
  },
  {
   "cell_type": "code",
   "outputs": [],
   "source": [
    "# pull the tracking data for use in the models\n",
    "tracking_query = \"\"\"\n",
    "select *\n",
    "from Tracking t join Plays P on P.playId = t.playId and P.gameId = t.gameId join Games g on g.Id = t.gameId\n",
    "where p.specialTeamsPlayType = 'Punt' and even = 'punt_received'\n",
    "\"\"\"\n",
    "cur.execute(tracking_query)\n",
    "rows = cur.fetchall()\n",
    "out = []\n",
    "for row in rows:\n",
    "    out.append(row)\n",
    "column_names = [description[0] for description in cur.description]\n",
    "tracking = pd.DataFrame(out, columns=column_names)\n",
    "\n",
    "#drop unneeded columns\n",
    "columns_to_drop = [15, 16]\n",
    "tracking = tracking.iloc[:, [i for i in range(len(tracking.columns)) if i not in columns_to_drop]]"
   ],
   "metadata": {
    "collapsed": false
   },
   "id": "5caa8f122a50dd88",
   "execution_count": null
  },
  {
   "cell_type": "code",
   "outputs": [],
   "source": [
    "# remove blocked kicks\n",
    "tracking = tracking[tracking['kickBlockerId'] == 'NA']"
   ],
   "metadata": {
    "collapsed": false
   },
   "id": "6e714dca3199c47d",
   "execution_count": null
  },
  {
   "cell_type": "code",
   "outputs": [],
   "source": [
    "#get list of all punts\n",
    "uniques = list(set(zip(tracking['gameId'], tracking['playId'])))\n",
    "# remove a misclassified blocked punt\n",
    "uniques.pop(1261)"
   ],
   "metadata": {
    "collapsed": false
   },
   "id": "d87aafb2e2fe2a86",
   "execution_count": null
  },
  {
   "cell_type": "code",
   "outputs": [],
   "source": [
    "# fix NA in direction\n",
    "tracking['dir'] = np.where(tracking['dir'] != 'NA',  tracking['dir'], tracking['o'])\n",
    "tracking['dir'] = np.where(tracking['dir'] != 'NA',  tracking['dir'], 0)\n",
    "tracking['dir'] = tracking['dir'].fillna(0).astype(float)"
   ],
   "metadata": {
    "collapsed": false
   },
   "id": "a51a1654b88d3cf2",
   "execution_count": null
  },
  {
   "cell_type": "code",
   "outputs": [],
   "source": [
    "#get list of all returners\n",
    "all_returners = ['Bryce Callahan', 'Tarik Cohen', 'Marvin Hall', 'Marquez Callaway', 'T.J. Jones', 'Chris Claybrooks', 'Brandon Powell', 'Randall Cobb', 'Keke Coutee', 'Hunter Renfrow', 'Rashad Greene', 'Janarion Grant', 'Alex Erickson', 'Tyler Ervin', 'Tyler Boyd', 'Patrick Peterson', 'Julian Edelman', 'Tyler Lockett', 'Chris Hogan', 'Corey Coleman', 'Darrius Shepherd', 'DeAndre Carter', 'Diontae Johnson', 'Jalen Richard', 'Cameron Batson', 'Jarvis Landry', 'Darius Phillips', 'Dontrell Hilliard', 'Tavon Austin', 'Jamison Crowder', 'DeSean Jackson', 'Kaelin Clay', 'Kenny Moore', 'Anthony Miller', 'K.J. Osborn', 'Matthew Slater', 'Golden Tate', 'Dede Westbrook', 'Jalen Reagor', 'Isaiah Rodgers', 'K.J. Hamler', 'Cyrus Jones', 'Chad Beebe', 'Donovan Peoples-Jones', 'Brandon Zylstra', 'C.J. Board', 'Quadree Henderson', 'Jabrill Peppers', 'Jonathan Jones', 'Charvarius Ward', 'River Cracraft', 'Jeremy Kerley', 'James Proche', 'Andre Roberts', 'T.Y. Hilton', 'Tim White', 'Damiere Byrd', 'Jamal Agnew', 'Mohamed Sanu', 'Austin Carr', 'Quandre Diggs', 'Preston Williams', 'Marcus Murphy', 'Jakeem Grant', 'Michael Walker', 'Troymaine Pope', 'Dwayne Harris', 'Tyreek Hill', 'J.J. Taylor', 'Stacy Coley', 'D.J. Reed', 'Deionte Thompson', 'Ted Ginn', 'Greg Ward', 'Brandon Aiyuk', 'Tremon Smith', 'D.J. Moore', 'Spencer Schnell', 'Christian Kirk', 'Demarcus Robinson', 'Mecole Hardman', 'Antonio Hamilton', 'Dante Pettis', 'Odell Beckham', 'Marcus Sherels', 'Antonio Callaway', 'Ced Wilson', 'Jaydon Mickens', 'Greg Dortch', 'Jamie Collins', 'Diontae Spencer', 'Antonio Brown', 'Keelan Cole', 'Taysom Hill', 'Bisi Johnson', 'Kenjon Barner', 'Ryan Switzer', 'Danny Amendola', 'Russell Gage', 'Justin Hardy', 'DaeSean Hamilton', 'Tyrann Mathieu', 'Gunner Olszewski', 'Nyheim Hines', 'Rashard Davis', 'football', 'Brandon Tate', 'Nelson Agholor', 'Janoris Jenkins', 'Trent Taylor', 'Bobo Wilson', 'Javien Elliott', 'LeShaun Sims', 'Boston Scott', 'Maurice Harris', 'Cole Beasley', 'Richie James', 'Trevor Davis', 'Rishard Matthews', 'Alvin Kamara', 'Steven Sims', 'Chester Rogers', 'Darren Sproles', 'Isaiah McKenzie', \"Adoree' Jackson\", 'Charone Peake', 'Justin Watson', 'Kalif Raymond', \"Da'Mari Scott\", 'Isaiah Wright', 'Nsimba Webster', 'Josh Jackson', 'Myles Hartsfield', 'Nick Williams', 'Torry McTyer', 'J.J. Jones', 'Mike Hughes', 'Jaire Alexander', 'Phillip Lindsay', 'Andy Isabella', 'Marqui Christian', 'Tramon Williams', 'Byron Murphy', 'Greg Stroman', 'Quenton Meeks', 'Riley McCarron', 'Corey Clement', 'Travis Benjamin', 'Cedrick Wilson', 'Tommylee Lewis', 'Deonte Harris', 'Devin Duvernay', 'Cooper Kupp', 'Will Fuller', 'Desmond King', 'Pharoh Cooper', 'Jawill Davis', 'CeeDee Lamb', 'Kenny Stills', 'Jordy Nelson', 'Adam Humphries', 'Braxton Berrios', 'Brandon Rusnak', 'Dominique Rodgers-Cromartie', 'Mike Thomas', 'Micah Hyde', 'Trey Quinn', 'K.J. Hill', \"De'Anthony Thomas\", 'Danny Johnson', 'David Moore', 'JoJo Natson', 'T.J. Logan', 'Adam Jones', 'Avonte Maddox', \"D'Ernest Johnson\", 'Ray-Ray McCloud']"
   ],
   "metadata": {
    "collapsed": false
   },
   "id": "e4885d8fcb076bdc",
   "execution_count": null
  },
  {
   "cell_type": "code",
   "outputs": [],
   "source": [
    "# get arrays of all punters and returners\n",
    "all_punters = tracking[tracking['position'] == 'P']['name'].unique()\n",
    "all_returners = np.array(all_returners)"
   ],
   "metadata": {
    "collapsed": false
   },
   "id": "f8ea5e366f0a22f9",
   "execution_count": null
  },
  {
   "cell_type": "code",
   "outputs": [],
   "source": [
    "#prepare data for model\n",
    "\n",
    "#make empty data frame\n",
    "ready_data = pd.DataFrame(columns = [x for x in range(0,127+len(all_returners)+3+len(all_punters))])\n",
    "#iterate through all punts\n",
    "for i in range(len(uniques)):\n",
    "    #get the current punt\n",
    "    play_one = tracking[(tracking['gameId'] == uniques[i][0]) & (tracking['playId'] == uniques[i][1])].reset_index(drop=True)\n",
    "    # adjust all positions to be realtive to the football\n",
    "    football = play_one[play_one['name'] == 'football']\n",
    "    football_loc = (football['x'], football['y'])\n",
    "    for j in range(len(play_one)):\n",
    "        play_one.iloc[j,1] -= football_loc[0]\n",
    "        play_one.iloc[j,2] -= football_loc[1]\n",
    "    \n",
    "    #get distance between each player and the football\n",
    "    # dist only needed for sorting so we can skip square root since it is also always increasing\n",
    "    play_one.loc[:,'dist'] = play_one['x']**2 + play_one['y']**2\n",
    "\n",
    "    #switch teams to from home and away to recv and kick\n",
    "    if play_one.loc[0, 'possessionTeam'] == play_one.loc[0, 'home']:\n",
    "        play_one['team'] = np.where(play_one['team'] == 'home', 'kick', 'recv')\n",
    "    else:\n",
    "        play_one['team'] = np.where(play_one['team'] == 'away', 'kick', 'recv')\n",
    "        \n",
    "    #calculate speed at ballcarrier using a dot product\n",
    "    mag1 = np.sqrt(np.cos(np.radians((play_one['dir']+90)%360))**2 + np.sin(np.radians((play_one['dir']+90)%360))**2)\n",
    "    mag2 = np.sqrt(play_one['x']**2 + play_one['y']**2)\n",
    "    play_one['dot'] = play_one['s'] * (-np.cos(np.radians((play_one['dir']+90)%360)) * -play_one['x'] + np.sin(np.radians((play_one['dir']+90)%360)) * -play_one['y'])/(mag1*mag2)\n",
    "        \n",
    "    #sort by team and distance so it is also in a consistient order for the model\n",
    "    sorted = play_one.sort_values(by=['team', 'dist']).reset_index(drop=True)\n",
    "    #drop football and returner (11 is ball, 12 is returner\n",
    "    returner = sorted.loc[12,'name']\n",
    "    sorted = sorted.drop([11,12])\n",
    "    all_values = []\n",
    "\n",
    "    \n",
    "    \n",
    "    # extend dataframe into one long row so each play is one row \n",
    "    for index, row in sorted.iterrows():\n",
    "        all_values.extend([row['x'], row['y'], row['s'], row['a'], row['dir'], row['dot']])\n",
    "    \n",
    "    aggregated_row = pd.Series(all_values).to_frame().T\n",
    "    \n",
    "    #add returner as a column\n",
    "    returner_ind = np.where(all_returners == returner)\n",
    "    returner_cols = pd.DataFrame(np.zeros((1, len(all_returners))))\n",
    "    returner_cols.iloc[0,returner_ind] = 1\n",
    "    returner_cols.columns = range(126, 126+len(all_returners))\n",
    "    aggregated_row = pd.concat([aggregated_row, returner_cols],axis=1)\n",
    "    \n",
    "    #Tadd initial yardline to model (subratcing 10 to get rid of endzone)\n",
    "    aggregated_row[len(aggregated_row.iloc[0,:])] = play_one.loc[0,'absoluteYardlineNumber'] - 10\n",
    "    \n",
    "    #add punter as a column\n",
    "    try:\n",
    "        punter = sorted[sorted['position'] == 'P'].iloc[0,10]\n",
    "    except IndexError:\n",
    "        punter = sorted[sorted['position'] == 'K'].iloc[0,10]\n",
    "    punter_ind = np.where(all_punters == punter)\n",
    "    punter_cols = pd.DataFrame(np.zeros((1, len(all_punters))))\n",
    "    punter_cols.iloc[0,punter_ind] = 1\n",
    "    punter_cols.columns = range(len(aggregated_row.iloc[0,:]), len(aggregated_row.iloc[0,:])+len(all_punters))\n",
    "    aggregated_row = pd.concat([aggregated_row, punter_cols],axis=1)\n",
    "    \n",
    "    \n",
    "    #add hangtime as a column\n",
    "    try:\n",
    "        aggregated_row[len(aggregated_row.iloc[0,:])] = data[(data['gameId'] == uniques[i][0]) & (data['playId'] == uniques[i][1])].iloc[0,27]\n",
    "    except IndexError:\n",
    "        aggregated_row[len(aggregated_row.iloc[0,:])] = np.NAN\n",
    "        print(i)\n",
    "    \n",
    "    \n",
    "    #add punt distance as a column\n",
    "    aggregated_row[len(aggregated_row.iloc[0,:])] = play_one.loc[0,'kickLength']\n",
    "    \n",
    "    #add return yardage\n",
    "    aggregated_row[len(aggregated_row.iloc[0,:])] = play_one['kickReturnYardage'][0]\n",
    "    \n",
    "    ready_data.loc[i] = aggregated_row.loc[0]\n",
    "    \n",
    "    #track progress\n",
    "    if i%500 == 0:\n",
    "        print(f\"{round((i/len(uniques))*100,2)}% complete\")\n"
   ],
   "metadata": {
    "collapsed": false
   },
   "id": "b19a04b66da592dd",
   "execution_count": null
  },
  {
   "cell_type": "code",
   "outputs": [],
   "source": [
    "#make sure that there is return yardage\n",
    "ready_data = ready_data[ready_data[len(ready_data.iloc[0,:])-1] != 'NA']"
   ],
   "metadata": {
    "collapsed": false
   },
   "id": "68f8bd1e0ea58344",
   "execution_count": null
  },
  {
   "cell_type": "code",
   "outputs": [],
   "source": [
    "# get dependant variable\n",
    "Y = ready_data.iloc[:,-1].astype('float32')\n",
    "# get independent variables, one collection of all, one collection excluding the punter and punt characteristics\n",
    "X1 = ready_data.iloc[:,:-1]\n",
    "X2 = ready_data.iloc[:,:-(3+len(all_punters))]"
   ],
   "metadata": {
    "collapsed": false
   },
   "id": "d91d461a5bccb8e",
   "execution_count": null
  },
  {
   "cell_type": "code",
   "outputs": [],
   "source": [
    "# more imports\n",
    "import tensorflow as tf\n",
    "from tensorflow import keras\n",
    "from sklearn.model_selection import KFold"
   ],
   "metadata": {
    "collapsed": false
   },
   "id": "2269947d6d3320ba",
   "execution_count": null
  },
  {
   "cell_type": "code",
   "outputs": [],
   "source": [
    "#clear keras just in case\n",
    "tf.keras.backend.clear_session()"
   ],
   "metadata": {
    "collapsed": false
   },
   "id": "3c21008be10c1f66",
   "execution_count": null
  },
  {
   "cell_type": "code",
   "outputs": [],
   "source": [
    "#set up cross-validation to find best model structure\n",
    "kf = KFold(n_splits = 8)\n",
    "VALIDATION_LOSS = []\n",
    "\n",
    "for train_index, val_index in kf.split(X1, Y):\n",
    "  #set train and validation sets\n",
    "  train_x = X1.iloc[train_index]\n",
    "  tf.convert_to_tensor(train_x, dtype=tf.float32)\n",
    "  valid_x = X1.iloc[val_index]\n",
    "  tf.convert_to_tensor(valid_x, dtype=tf.float32)\n",
    "  train_y = Y.iloc[train_index]\n",
    "  tf.convert_to_tensor(train_y, dtype=tf.float32)\n",
    "  valid_y = Y.iloc[val_index]\n",
    "  tf.convert_to_tensor(valid_y, dtype=tf.float32)\n",
    "  \n",
    "  #set seed to make reproducable (for random starting weights)\n",
    "  keras.utils.set_random_seed(14)\n",
    "  #build model\n",
    "  network = keras.models.Sequential([\n",
    "      keras.layers.Dense(1024, activation = 'elu'),\n",
    "      keras.layers.Dense(2048, activation = \"elu\"),\n",
    "      keras.layers.Dense(4096, activation = 'elu'),\n",
    "      keras.layers.Dense(4096, activation=\"elu\"),\n",
    "      keras.layers.Dense(4096, activation=\"elu\"),\n",
    "      keras.layers.Dense(2048, activation=\"elu\"),\n",
    "      keras.layers.Dense(1, activation = 'linear')\n",
    "  ])\n",
    "  \n",
    "  network.compile(loss=\"mean_squared_error\",\n",
    "                optimizer=keras.optimizers.Adam(learning_rate=0.001),\n",
    "                metrics = [\"mean_squared_error\", \"mean_absolute_error\"])\n",
    "  \n",
    "  \n",
    "  history = network.fit(train_x, train_y,\n",
    "                      epochs=12, batch_size=128,\n",
    "                      validation_data=(valid_x, valid_y), verbose = 0)\n",
    "  \n",
    "  results = network.evaluate(valid_x, valid_y)\n",
    "  \n",
    "  VALIDATION_LOSS.append(results[0])\n",
    "  \n",
    "  tf.keras.backend.clear_session()\n",
    "  "
   ],
   "metadata": {
    "collapsed": false
   },
   "id": "2149e51be24da115",
   "execution_count": null
  },
  {
   "cell_type": "code",
   "outputs": [],
   "source": [
    "# make a second network for the data not including the punter or punt characteristics\n",
    "network2 = keras.models.Sequential([\n",
    "      keras.layers.Dense(1024, activation = 'elu'),\n",
    "      keras.layers.Dense(2048, activation = \"elu\"),\n",
    "      keras.layers.Dense(4096, activation = 'elu'),\n",
    "      keras.layers.Dense(4096, activation=\"elu\"),\n",
    "      keras.layers.Dense(4096, activation=\"elu\"),\n",
    "      keras.layers.Dense(2048, activation=\"elu\"),\n",
    "      keras.layers.Dense(1, activation = 'linear')\n",
    "  ])\n",
    "  \n",
    "network2.compile(loss=\"mean_squared_error\",\n",
    "                optimizer=keras.optimizers.Adam(learning_rate=0.001),\n",
    "                metrics = [\"mean_squared_error\", \"mean_absolute_error\"])\n",
    "  \n",
    "  "
   ],
   "metadata": {
    "collapsed": false
   },
   "id": "f2cbf14d0e1272c1",
   "execution_count": null
  },
  {
   "cell_type": "code",
   "outputs": [],
   "source": [
    "#Fit the two models\n",
    "full_model = network.fit(X1, Y,\n",
    "                      epochs=12, batch_size=128,verbose = 0)\n",
    "limited_model = network2.fit(X2, Y,\n",
    "                            epochs=12, batch_size=128,verbose = 0)"
   ],
   "metadata": {
    "collapsed": false
   },
   "id": "4306d1ba0e26cb21",
   "execution_count": null
  },
  {
   "cell_type": "code",
   "outputs": [],
   "source": [
    "# Find average punter attributed distance for each punter\n",
    "final = pd.DataFrame(columns = ['Name', 'Distance', 'Return', 'total'])\n",
    "for i in range(len(all_punters)):\n",
    "    #just get punts from the current punter\n",
    "    mask = np.where(ready_data.iloc[:,127+len(all_returners)+i] == 1)\n",
    "    #get the expected return values for all of their punts\n",
    "    full = network.predict(X1.iloc[mask], verbose=0)\n",
    "    limited = network2.predict(X2.iloc[mask], verbose=0)\n",
    "    # take the difference to get the punters contribution to expected return\n",
    "    diff = (limited-full).mean()\n",
    "    try:\n",
    "        #add the added distance added to the punt to the expectedreturn distance mitigated\n",
    "        dist = punter_coef[punter_coef['index'] == all_punters[i]].iloc[0,1] + diff\n",
    "    except IndexError:\n",
    "        print(all_punters[i])\n",
    "        #Catch Lachlan Edwards also going as Lac Edwards\n",
    "        dist = punter_coef[punter_coef['index'] == \"Lachlan Edwards\"].iloc[0,1] + diff\n",
    "    # collect all into one dataframe\n",
    "    final.loc[len(final)] = [all_punters[i],dist-diff, diff, dist]\n",
    "    print(all_punters[i], dist)"
   ],
   "metadata": {
    "collapsed": false
   },
   "id": "673e7d3aee44042",
   "execution_count": null
  },
  {
   "cell_type": "code",
   "outputs": [],
   "source": [
    "#add a combined name column\n",
    "final[['first', 'last']] = final['Name'].str.split(' ', expand=True)\n",
    "final['short'] = final['first'].str[0] + '. ' + final['last']"
   ],
   "metadata": {
    "collapsed": false
   },
   "id": "a0c32678e5efdbfc",
   "execution_count": null
  },
  {
   "cell_type": "markdown",
   "source": [
    "Make Graphics"
   ],
   "metadata": {
    "collapsed": false
   },
   "id": "a19c36976f3df952"
  },
  {
   "cell_type": "code",
   "outputs": [],
   "source": [
    "# import plotnine to graph results\n",
    "from plotnine import ggplot, geom_point, geom_label, aes, labs, theme_grey, xlim, ggsave, geom_col, coord_flip, scale_x_continuous, scale_color_manual, scale_y_continuous, geom_segment,theme, element_text, geom_vline, geom_line, geom_smooth"
   ],
   "metadata": {
    "collapsed": false
   },
   "id": "8703c5addb3c7f10",
   "execution_count": null
  },
  {
   "cell_type": "code",
   "outputs": [],
   "source": [
    "# Graphic comparing distance added to punt with distance expected return is shorten\n",
    "adjust_text_dict = {\n",
    "    'force_text':(0.45,0.45),\n",
    "    'force_static':(0.3, 0.3),\n",
    "    'force_pull':(0.4,0.4),\n",
    "    'pull_threshold':5,\n",
    "    'expand_axes':True,\n",
    "    'arrowprops': {\n",
    "        'arrowstyle': '->',\n",
    "        'color': 'red'\n",
    "    }\n",
    "}\n",
    "\n",
    "\n",
    "p = ggplot(final, aes(\"Distance\",\"Return\",label = \"short\", size = 11))+geom_point()+ geom_label(size=16) + labs(x = \"Calculated Average Impact on Gross Punt Distance (Yards)\", y= \"Calculated Average Impact on Return (Yards)\", title = \"Calculated Punter Impact\") + theme_grey()+xlim(25,35.5) + theme(axis_title=element_text(size=24), plot_title=element_text(size=32,face=\"bold\"), axis_text=element_text(size=24))\n",
    "\n",
    "#ggsave(plot = p, filename=\"filename.png\", dpi=500, height=10, width=10, units='in')"
   ],
   "metadata": {
    "collapsed": false
   },
   "id": "cd5c98cc68243712",
   "execution_count": null
  },
  {
   "cell_type": "code",
   "outputs": [],
   "source": [
    "p.save(filename=\"filename.png\", dpi=1000, height=8, width=14, units='in')"
   ],
   "metadata": {
    "collapsed": false
   },
   "id": "8055bd79345790f6",
   "execution_count": null
  },
  {
   "cell_type": "code",
   "outputs": [],
   "source": [
    "p"
   ],
   "metadata": {
    "collapsed": false
   },
   "id": "2971ceb3dc7af8cc",
   "execution_count": null
  },
  {
   "cell_type": "code",
   "outputs": [],
   "source": [
    "#Look at results\n",
    "final"
   ],
   "metadata": {
    "collapsed": false
   },
   "id": "bc4dde8619f80dd1",
   "execution_count": null
  },
  {
   "cell_type": "code",
   "outputs": [],
   "source": [
    "#look at ranges between distance and return\n",
    "print(final['Distance'].max() - final['Distance'].min())\n",
    "print(final['Return'].max() - final['Return'].min())"
   ],
   "metadata": {
    "collapsed": false
   },
   "id": "58b1bc74d9c4a3d7",
   "execution_count": null
  },
  {
   "cell_type": "code",
   "outputs": [],
   "source": [
    "#Get top five and bottom 5\n",
    "pd.concat([final.sort_values('total').iloc[:5], final.sort_values('total').iloc[len(final)-5:]])"
   ],
   "metadata": {
    "collapsed": false
   },
   "id": "264a481c41e6348",
   "execution_count": null
  },
  {
   "cell_type": "code",
   "outputs": [],
   "source": [
    "#make graphic showing top five and bottom five punters by average punter attributed distance\n",
    "\n",
    "p2 = ggplot(pd.concat([final.sort_values('total').iloc[:5], final.sort_values('total').iloc[len(final)-5:]]), aes(\"reorder(Name,total)\",\"total\")) + geom_point(size = 5)+ geom_segment(aes(x='Name',xend='Name',y=0, yend='total'), size =3)+coord_flip()+labs(y=\"Average Yards Added per Punt\", x= \"Punter\", title= \"Average Punter Attributed Distance\", subtitle = \"Top Five vs. Bottom Five\") + theme(axis_title=element_text(size=28), plot_title=element_text(size=32,face=\"bold\", hjust=0.5), plot_subtitle=element_text(size = 32, hjust=0.5), axis_text=element_text(size=24))+ geom_vline(xintercept=5.5, linetype='dashed', size =2, color = 'red')+ scale_y_continuous(breaks=[0,5,10,15,20,25,30,35])"
   ],
   "metadata": {
    "collapsed": false
   },
   "id": "97cc3d394af5d83",
   "execution_count": null
  },
  {
   "cell_type": "code",
   "outputs": [],
   "source": [
    "p2.save(filename=\"filename2.png\", dpi=1000, height=8, width=14, units='in')"
   ],
   "metadata": {
    "collapsed": false
   },
   "id": "4e2e32d61da5f0e2",
   "execution_count": null
  },
  {
   "cell_type": "code",
   "outputs": [],
   "source": [
    "# make graphic showing kick length controling for yardline of the kick and weather\n",
    "p3 = ggplot(data, aes(x='endzoneDistance', y = 'kickLength', color = 'weather_simp')) + geom_point(size=0.3)+geom_smooth(method= 'loess', size = 1.5) + theme(axis_title=element_text(size=24), plot_title=element_text(size=25,face=\"bold\", hjust=1), axis_text=element_text(size=18), legend_position=(0.01,0.99), legend_title=element_text(size=24), legend_text=element_text(size=20)) + labs(y=\"Punt Length (Yards)\", x= \"Distance to End Zone (Yards)\", title= \"Punt Length vs. End Zone Distance\", color = \"Weather\")  + scale_color_manual(labels = (\"Clear\", \"Domed\", 'Elements'), values = (\"red\", 'green', 'blue'))"
   ],
   "metadata": {
    "collapsed": false
   },
   "id": "de60d64f8faadcc",
   "execution_count": null
  },
  {
   "cell_type": "code",
   "outputs": [],
   "source": [
    "p3.save(filename=\"filename3.png\", dpi=750, height=6, width=7.5, units='in')"
   ],
   "metadata": {
    "collapsed": false
   },
   "id": "708ef024ded43712",
   "execution_count": null
  },
  {
   "cell_type": "code",
   "outputs": [],
   "source": [
    "# Make graphic showing kick length controlling for hangtime\n",
    "p4 = ggplot(data[data['hangTime']>2], aes(x='hangTime', y = 'kickLength')) + geom_point(size=0.3)+geom_smooth(method= 'loess', size = 1.5, color = 'blue')+theme(axis_title=element_text(size=24), plot_title=element_text(size=25,face=\"bold\"), axis_text=element_text(size=18)) + labs(y=\"Punt Length (Yards)\", x= \"Hang Time (Seconds)\", title= \"Punt Length vs. Hang Time\")"
   ],
   "metadata": {
    "collapsed": false
   },
   "id": "eff2df6e48760dc6",
   "execution_count": null
  },
  {
   "cell_type": "code",
   "outputs": [],
   "source": [
    "p4.save(filename=\"filename4.png\", dpi=750, height=6, width=7.5, units='in')"
   ],
   "metadata": {
    "collapsed": false
   },
   "id": "335aaa1e503f30c3",
   "execution_count": null
  }
 ],
 "metadata": {
  "kernelspec": {
   "display_name": "Python 3",
   "language": "python",
   "name": "python3"
  },
  "language_info": {
   "codemirror_mode": {
    "name": "ipython",
    "version": 2
   },
   "file_extension": ".py",
   "mimetype": "text/x-python",
   "name": "python",
   "nbconvert_exporter": "python",
   "pygments_lexer": "ipython2",
   "version": "2.7.6"
  }
 },
 "nbformat": 4,
 "nbformat_minor": 5
}
